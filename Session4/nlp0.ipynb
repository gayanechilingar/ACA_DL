{
  "nbformat": 4,
  "nbformat_minor": 0,
  "metadata": {
    "kernelspec": {
      "display_name": "Python 3",
      "language": "python",
      "name": "python3"
    },
    "language_info": {
      "codemirror_mode": {
        "name": "ipython",
        "version": 3
      },
      "file_extension": ".py",
      "mimetype": "text/x-python",
      "name": "python",
      "nbconvert_exporter": "python",
      "pygments_lexer": "ipython3",
      "version": "3.8.3"
    },
    "colab": {
      "name": "nlp0.ipynb",
      "provenance": [],
      "collapsed_sections": []
    },
    "accelerator": "GPU"
  },
  "cells": [
    {
      "cell_type": "code",
      "metadata": {
        "id": "uwCeV6JyhTpv"
      },
      "source": [
        "import numpy as np\n",
        "import matplotlib.pyplot as plt\n",
        "%matplotlib inline"
      ],
      "execution_count": 1,
      "outputs": []
    },
    {
      "cell_type": "markdown",
      "metadata": {
        "id": "L63I44WKhTp0"
      },
      "source": [
        "\n",
        "\n",
        "![img](https://github.com/yandexdataschool/nlp_course/raw/master/resources/banhammer.jpg)\n",
        "\n",
        "__In this notebook__ you will build an algorithm that classifies social media comments into normal or toxic.\n",
        "Like in many real-world cases, you only have a small (10^3) dataset of hand-labeled examples to work with. We'll tackle this problem using both classical nlp methods and embedding-based approach."
      ]
    },
    {
      "cell_type": "code",
      "metadata": {
        "id": "h3kP9nGfhTp2",
        "colab": {
          "base_uri": "https://localhost:8080/",
          "height": 206
        },
        "outputId": "63439616-bbd4-4db3-c5a4-9b5cdef178e8"
      },
      "source": [
        "import pandas as pd\n",
        "data = pd.read_csv(\"comments.tsv\", sep='\\t')\n",
        "\n",
        "texts = data['comment_text'].values\n",
        "target = data['should_ban'].values\n",
        "data[50::200]"
      ],
      "execution_count": 2,
      "outputs": [
        {
          "output_type": "execute_result",
          "data": {
            "text/html": [
              "<div>\n",
              "<style scoped>\n",
              "    .dataframe tbody tr th:only-of-type {\n",
              "        vertical-align: middle;\n",
              "    }\n",
              "\n",
              "    .dataframe tbody tr th {\n",
              "        vertical-align: top;\n",
              "    }\n",
              "\n",
              "    .dataframe thead th {\n",
              "        text-align: right;\n",
              "    }\n",
              "</style>\n",
              "<table border=\"1\" class=\"dataframe\">\n",
              "  <thead>\n",
              "    <tr style=\"text-align: right;\">\n",
              "      <th></th>\n",
              "      <th>should_ban</th>\n",
              "      <th>comment_text</th>\n",
              "    </tr>\n",
              "  </thead>\n",
              "  <tbody>\n",
              "    <tr>\n",
              "      <th>50</th>\n",
              "      <td>0</td>\n",
              "      <td>\"Those who're in advantageous positions are th...</td>\n",
              "    </tr>\n",
              "    <tr>\n",
              "      <th>250</th>\n",
              "      <td>1</td>\n",
              "      <td>Fartsalot56 says f**k you motherclucker!!</td>\n",
              "    </tr>\n",
              "    <tr>\n",
              "      <th>450</th>\n",
              "      <td>1</td>\n",
              "      <td>Are you a fool? \\n\\nI am sorry, but you seem t...</td>\n",
              "    </tr>\n",
              "    <tr>\n",
              "      <th>650</th>\n",
              "      <td>1</td>\n",
              "      <td>I AM NOT A VANDAL!!!!!!!!!!!!!!!!!!!!!!!!!!!!!!</td>\n",
              "    </tr>\n",
              "    <tr>\n",
              "      <th>850</th>\n",
              "      <td>0</td>\n",
              "      <td>Citing sources\\n\\nCheck out the Wikipedia:Citi...</td>\n",
              "    </tr>\n",
              "  </tbody>\n",
              "</table>\n",
              "</div>"
            ],
            "text/plain": [
              "     should_ban                                       comment_text\n",
              "50            0  \"Those who're in advantageous positions are th...\n",
              "250           1          Fartsalot56 says f**k you motherclucker!!\n",
              "450           1  Are you a fool? \\n\\nI am sorry, but you seem t...\n",
              "650           1    I AM NOT A VANDAL!!!!!!!!!!!!!!!!!!!!!!!!!!!!!!\n",
              "850           0  Citing sources\\n\\nCheck out the Wikipedia:Citi..."
            ]
          },
          "metadata": {
            "tags": []
          },
          "execution_count": 2
        }
      ]
    },
    {
      "cell_type": "code",
      "metadata": {
        "collapsed": true,
        "jupyter": {
          "outputs_hidden": true
        },
        "id": "-LjCnaXohTp2"
      },
      "source": [
        "from sklearn.model_selection import train_test_split\n",
        "texts_train, texts_test, y_train, y_test = train_test_split(texts, target, test_size=0.5, random_state=42)\n"
      ],
      "execution_count": 3,
      "outputs": []
    },
    {
      "cell_type": "markdown",
      "metadata": {
        "id": "TBbB50aIhTp4"
      },
      "source": [
        "__Note:__ it is generally a good idea to split data into train/test before anything is done to them.\n",
        "\n",
        "It guards you against possible data leakage in the preprocessing stage. For example, should you decide to select words present in obscene tweets as features, you should only count those words over the training set. Otherwise your algoritm can cheat evaluation."
      ]
    },
    {
      "cell_type": "markdown",
      "metadata": {
        "id": "4bTzM1tyhTp4"
      },
      "source": [
        "### Preprocessing and tokenization\n",
        "\n",
        "Comments contain raw text with punctuation, upper/lowercase letters and even newline symbols.\n",
        "\n",
        "To simplify all further steps, we'll split text into space-separated tokens using one of nltk tokenizers."
      ]
    },
    {
      "cell_type": "code",
      "metadata": {
        "colab": {
          "base_uri": "https://localhost:8080/"
        },
        "id": "kMII1oWwhTp5",
        "outputId": "9946aa12-bfc7-4865-8431-ff9966f3b1e3"
      },
      "source": [
        "from nltk.tokenize import TweetTokenizer\n",
        "tokenizer = TweetTokenizer()\n",
        "preprocess = lambda text: ' '.join(tokenizer.tokenize(text.lower()))\n",
        "\n",
        "text = 'How to be a grown-up at work: replace \"fuck you\" with \"Ok, great!\".'\n",
        "print(\"before:\", text,)\n",
        "print(\"after:\", preprocess(text),)\n",
        "# print(type(text))"
      ],
      "execution_count": 4,
      "outputs": [
        {
          "output_type": "stream",
          "text": [
            "before: How to be a grown-up at work: replace \"fuck you\" with \"Ok, great!\".\n",
            "after: how to be a grown-up at work : replace \" fuck you \" with \" ok , great ! \" .\n"
          ],
          "name": "stdout"
        }
      ]
    },
    {
      "cell_type": "code",
      "metadata": {
        "collapsed": true,
        "jupyter": {
          "outputs_hidden": true
        },
        "id": "RtCqWnDmhTp7"
      },
      "source": [
        "# task: preprocess each comment in train and test\n",
        "\n",
        "texts_train = preprocess(str(texts_train)) #<YOUR CODE>\n",
        "texts_test = preprocess(str(texts_test))"
      ],
      "execution_count": 5,
      "outputs": []
    },
    {
      "cell_type": "code",
      "metadata": {
        "colab": {
          "base_uri": "https://localhost:8080/"
        },
        "id": "pQp09Vi5Cnul",
        "outputId": "09ac44c2-a14d-4bb5-d7b2-55ad49c73938"
      },
      "source": [
        "len(texts_train)"
      ],
      "execution_count": 6,
      "outputs": [
        {
          "output_type": "execute_result",
          "data": {
            "text/plain": [
              "212415"
            ]
          },
          "metadata": {
            "tags": []
          },
          "execution_count": 6
        }
      ]
    },
    {
      "cell_type": "code",
      "metadata": {
        "collapsed": true,
        "jupyter": {
          "outputs_hidden": true
        },
        "colab": {
          "base_uri": "https://localhost:8080/"
        },
        "id": "665hwPVihTp7",
        "outputId": "83fb09d4-a94a-4a9f-935e-5e46e7b90271"
      },
      "source": [
        "try:\n",
        "  assert texts_train[5] ==  'who cares anymore . they attack with impunity .'\n",
        "  assert texts_test[89] == 'hey todds ! quick q ? why are you so gay'\n",
        "  assert len(texts_test) == len(y_test)\n",
        "except AssertionError:\n",
        "  print(\"assetion error\")\n",
        "print(len(texts_train))"
      ],
      "execution_count": 7,
      "outputs": [
        {
          "output_type": "stream",
          "text": [
            "assetion error\n",
            "212415\n"
          ],
          "name": "stdout"
        }
      ]
    },
    {
      "cell_type": "markdown",
      "metadata": {
        "id": "ktPT6QJahTp7"
      },
      "source": [
        "### Solving it: bag of words\n",
        "\n",
        "![img](http://www.novuslight.com/uploads/n/BagofWords.jpg)\n",
        "\n",
        "One traditional approach to such problem is to use bag of words features:\n",
        "1. build a vocabulary of frequent words (use train data only)\n",
        "2. for each training sample, count the number of times a word occurs in it (for each word in vocabulary).\n",
        "3. consider this count a feature for some classifier\n",
        "\n",
        "__Note:__ in practice, you can compute such features using sklearn. Please don't do that in the current assignment, though.\n",
        "* `from sklearn.feature_extraction.text import CountVectorizer, TfidfVectorizer`"
      ]
    },
    {
      "cell_type": "code",
      "metadata": {
        "id": "g2NUL20Bb9_8"
      },
      "source": [
        ""
      ],
      "execution_count": 7,
      "outputs": []
    },
    {
      "cell_type": "code",
      "metadata": {
        "id": "45iR6Y7kbed3"
      },
      "source": [
        ""
      ],
      "execution_count": 7,
      "outputs": []
    },
    {
      "cell_type": "code",
      "metadata": {
        "colab": {
          "base_uri": "https://localhost:8080/"
        },
        "id": "m8o79G_whTp8",
        "outputId": "269f5a74-dcb2-4180-f71d-d64d234144da"
      },
      "source": [
        "# task: find up to k most frequent tokens in texts_train,\n",
        "# sort them by number of occurences (highest first)\n",
        "from collections import Counter\n",
        "\n",
        "k = 10000\n",
        "\n",
        "# <YOUR CODE>\n",
        "split_it = texts_train.split()    \n",
        "counter_obj = Counter(split_it)\n",
        "bow_vocabulary = dict(counter_obj.most_common(n = k))\n",
        "text, count = bow_vocabulary.keys(), bow_vocabulary.values()\n",
        "bow_vocabulary = list(text)\n",
        "\n",
        "# split_it = texts_train.split()\n",
        "# counter_obj = Counter(split_it)\n",
        "# bow_vocabulary = dict(counter_obj.most_common(n = k))\n",
        "# bow_vocabulary = list(sorted(bow_vocabulary.items(), key=lambda item: item[1], reverse=True))\n",
        "print('example features:', bow_vocabulary)\n"
      ],
      "execution_count": 8,
      "outputs": [
        {
          "output_type": "stream",
          "text": [
            "example features: ['\\\\', '.', ',', '\"', 'you', 'the', \"'\", 'a', 'n', 'to', 'and', '!', 'i', 'is', 'of', '=', 'suck', 'that', 'it', 'hitler', 'heil', 'in', '(', ')', 'offfuck', '?', 'are', 'not', 'this', 'for', 'be', 'your', 'my', 'on', ':', 'with', 'as', 'do', 'have', 'nigger', 'j.delanoy', 'me', 'dick', 'or', 'was', 'article', 'if', 'know', 'at', 'page', 'but', 'what', 'all', 'an', '...', 'so', 'talk', 'by', 'wikipedia', 's', 'he', 'like', 'they', 'one', 'can', 'from', 'no', 'will', 'has', 'would', 'been', 'there', 'fggt', 'about', 'nbecause', 'just', 'which', '2006', 'any', 'ni', 'did', '-', 'who', 'time', 'when', 't', 'we', 'july', 'hist', 'diff', '்', '24', 'people', 'had', 'his', 'please', 'should', '|', 'them', 'see', 'here', 'up', 'because', 'think', \"don't\", 'other', 'before', 'some', 'how', ';', 'bitch', 'am', 'make', 'also', 'out', '/', 'then', 'being', 'may', 'only', 'user', 'why', 'more', 'use', 'articles', 'again', 'their', 'even', 'fuck', 'edit', 'now', 'does', 'get', 'good', 'own', 'were', 'her', 'want', 'slap', 'than', 'shit', 'new', 'go', '→', 'two', 'information', 'him', 'made', 'sources', 'its', 'very', 'since', 'n06', 'most', 'nyou', \"i'm\", 'nthe', 'stop', 'way', 'over', 'blocked', 'right', 'take', '&', 'help', 'discussion', 'block', 'could', 'such', 'dog', 'many', 'too', 'she', 've', 'don', 'live', 'us', 'where', '}', 'much', 'things', 'image', 'into', 'top', 'those', 'these', 'u', '{', 'fucking', 'sure', 'work', 'added', 'little', '•', 'against', 'real', 'used', 'life', '..', 're', 'name', 'edits', 'well', 'others', 'while', 'keep', 'editing', 'really', 'pages', 'something', 'delete', 'same', 'another', 'source', 'ass', 'add', 'world', 'thank', 'find', 'wp', 'without', 'off', 'loud', 'say', 'agree', 'place', 'back', 'every', 'consider', 'read', 'wiki', 'put', 'might', 'going', 'doing', 'content', 'someone', 'ever', 'believe', \"you're\", 'case', 'admin', 'let', 'first', 'wormy', 'saloon', 'personal', 'm', 'seems', 'deleted', 'need', 'must', 'making', 'ask', 'said', 'our', 'anything', 'section', 'street', 'mean', 'ி', 'ு', 'person', 'simply', 'three', 'actually', 'after', 'thanks', 'fair', 'understand', '2', 'yourself', 'great', 'using', 'under', 'still', 'words', '–', \"it's\", 'above', 'best', 'nothing', 'question', 'history', 'each', 'comment', 'request', 'done', 'removed', 'n10', 'bootleg', '[', 'oh', 'kind', 'never', 'site', 'reason', 'book', 'enough', 'matter', 'free', 'gay', 'english', 'care', '—', 'through', 'welcome', ':\\\\', 'comments', 'last', 'remove', 'point', 'references', 'support', 'better', 'makes', 'stupid', 'rationale', 'bit', 'day', 'hard', 'fact', 'hope', 'look', 'll', '~', 'thing', 'years', '%', 'created', 'different', 'warning', 'list', 'contributions', 'utc', 'show', 'give', 'continue', 'style', 'questions', 'american', 'call', 'clearly', 'come', '1', '*', 'biased', '25', 'links', '’', 'college', 'deletion', 'ட', 'anti-semitism', 'long', 'asshole', 'nhow', 'leave', 'however', 'around', 'seem', 'found', 'vandalism', 'short', 'rather', 'having', ']', 'provide', 'hey', 'least', 'reverted', 'entry', 'disc', 'nhi', 'old', 'aig', 'caused', 'ா', 'issue', 'later', 'view', 'further', 'whether', 'government', 'nthis', 'main', 'both', 'ban', 'yet', 'bastard', 'mother', 'topic', 'adding', 'getting', 'revert', 'hit', 'knowledge', 'between', 'together', 'nit', 'nin', '=\\\\', 'text', 'far', 'dont', 'etc', '2012', 'problem', 'bernanke', 'feel', 'quite', 'though', 'attack', 'reliable', 'wrong', 'attitude', 'current', 'alone', 'called', 'man', 'redirect', 'eat', 'change', 'whole', 'idiot', 'account', 'try', 'upon', 'improve', 'remember', 'second', 'part', 'policies', 'policy', 'respect', 'title', 'everyone', 'instead', 'state', 'consensus', '@', 'க', 'ற', 'த', 'rugby', 'editor', 'left', 'admins', 'attacks', 'news', 'unblock', 'piece', 'editors', 'ip', 'act', 'website', 'mention', 'true', 'check', \"i've\", 'reference', 'head', 'cannot', 'either', 'moron', 'learn', 'lead', 'changes', 'saying', 'once', 'various', 'jews', 'days', 'd', 'statement', 'nonsense', 'original', 'faith', 'anyway', 'word', '18', 'definition', 'guidelines', 'beth', 'able', 'beautiful', 'discuss', 'loan', 'wall', 'usa', 'possible', 'posted', 'scientific', 'correct', 'ம', 'represented', 'im', 'important', 'states', 'power', 'big', 'fine', 'political', 'during', 'common', 'listed', 'lot', 'completely', 'given', 'field', 'several', 'means', 'description', \"can't\", 'anyone', 'suggest', 'note', 'mentioned', 'level', 'due', 'version', 'grammar', 'general', 'serious', 'guys', 'class', 'number', 'notable', 'absolutely', 'rfc', 'neutral', 'myself', 'probably', 'message', 'nwhat', 'changed', 'seen', 'merge', 'reasons', 'google', 'says', 'thought', 'actions', 'related', 'hell', 'info', '10', 'chavo', 'jr', 'played', 'complete', 'line', 'party', 'nall', 'band', 'needs', 'ே', 'involved', 'cheers', 'lost', 'nthank', 'interest', 'therefore', 'media', 'evidence', 'nif', 'attention', 'faggot', 'cunt', 'nand', 'goes', 'written', 'write', 'claim', 'told', 'writing', 'type', 'although', 'aware', 'until', 'deal', 'unblocked', 'happy', 'appear', 'men', 'ahead', 'control', 'become', 'already', 'area', 'modern', 'sense', 'helpful', 'date', 'efforts', 'file', 'listen', 'nthanks', \"didn't\", 'stuff', 'blocking', 'none', 'agenda', '15', 'dirty', 'ago', 'tags', 'whatever', 'certainly', 'else', 'vote', 'sourcing', 'research', 'hi', 'calling', 'form', 'greek', 'sr', 'clear', 'palmer', 'position', 'months', 'claims', 'study', 'themselves', 'women', 'n05', 'oscar', 'gutierrez', 'bash', 'guerrero', 'argument', 'got', 'always', 'reverting', 'few', 'justine', 'run', 'geitner', 'paulson', 'today', 'conflict', '_', 'creation', 'process', 'வ', 'jewish', 'lay', 'civility', 'persons', 'isn', 'nplease', 'war', 'example', 'idea', 'troll', 'lives', 'crap', 'available', 'talking', 'friends', 'nmy', 'according', 'ncan', 'group', 'parents', 'bad', 'considered', 'dumb', 'truly', 'wanted', 'cause', 'ignorant', 'towards', 'itself', 'came', 'enjoy', 'gone', 'voting', 'market', 'four', ');', 'lack', 'nthat', 'images', 'suspect', 'saw', 'asked', 'template', 'outside', 'america', 'supposed', 'amount', 'high', 'silly', 'logic', 'including', 'encyclopedia', 'examples', 'year', 'based', 'bring', 'nhello', 'meet', 'nyour', 'start', 'move', 'post', 'useful', 'dispute', 'die', 'fictional', 'south', 'appropriate', 'blue', 'nas', 'seriously', 'wrote', '3', 'ridiculous', 'standard', 'users', 'facts', 'smackdown', 'heavyweight', 'champion', 'low', 'player', 'down', 'final', 'interested', 'tag', 'country', 'video', 'contact', 'recent', 'went', 'french', 'lose', 'tool', 'applied', 'trying', 'create', 'couple', 'uses', '^', 'movement', 'religious', 'homosexual', 'arms', 'points', 'previous', 'coming', 'forget', 'கள', 'ை', 'poor', 'bulls', 'cup', 'issues', 'physics', 'clairsentience', 'width', 'western', 'sahara', 'republic', 'lazy', 'nbut', 'reading', 'cited', 'included', 'felt', 'quality', 'wikipedian', 'assange', 'perhaps', 'propaganda', '4', 'march', 'dude', 'tell', 'nwhy', 'harassment', 'mind', 'especially', 'statements', 'yes', 'won', 'less', 'livery', 'address', 'discrimination', 'ya', 'nps', 'ignorance', 'john', '20', 'retarded', 'non-free', 'consistent', 'r', 'fucked', 'ok', 'banned', 'school', 'working', 'sex', 'course', 'body', 'death', 'behind', 'sock', 'contributors', \"i'll\", 'preceding', 'subjects', 'million', 'stated', 'vandalize', 'nation', 'decide', 'stay', 'sign', 'automatically', 'nfuck', 'tells', 'small', 'computer', 'future', 'per', 'attempt', 'origin', 'allow', \"you've\", 'edited', 'times', 'nemonic', 'easy', 'significant', 'na', 'ah', 'six', 'cos', 'took', 'minutes', 'coat', 'damn', 'obvious', 'light', 'opinion', 'deleting', 'team', 'gonna', 'respond', 'rm', 'worked', 'specific', 'wish', 'funny', 'assume', 'beyond', 'exit', 'nalso', 'putting', 'taken', 'disruptive', 'discussed', 'topics', 'share', 'hits', 'vfd', 'mine', 'dead', 'shawn', 'michaels', 'return', '09', '05', '100', 'looking', 'iq', 'abused', 'along', 'answer', 'noticed', 'removing', 'result', 'subject', 'moment', 'citation', 'conversation', 'spending', 'close', 'full', 'official', 'public', 'global', 'markets', 'crisis', 'huge', 'jones', 'action', 'exist', 'placed', 'away', 'speedy', 'australia', 'submission', 'community', 'avoid', 'e', 'super', 'surname', 'review', 'fat', 'fun', 'justify', 'threatening', 'designed', 'horn', 'sahrawi', 'strong', 'rules', 'names', 'white', 'decision', 'anymore', 'founder', 'journalism', 'whereby', 'thoughts', 'abuse', 'internet', 'law', 'business', 'events', 'distance', 'sound', 'access', 'material', 'recently', 'report', 'dare', 'changing', 'space', 'language', 'books', 'born', 'assuming', 'civil', \"doesn't\", 'justification', 'criteria', 'showing', 'o', 'wanna', 'basically', 'contributing', 'gives', \"he's\", 'single', 'game', 'god', 'human', 'mr', 'valid', 'color', 'ignore', 'prove', 'obtuse', 'serve', 'separate', 'actual', 'himself', 'ignoring', 'behavior', 'unsigned', 'except', 'equally', 'asking', 'effort', 'term', 'five', 'tildes', 'petty', 'status', 'pathetic', 'contribute', 'evil', 'helping', 'decline', 'below', 'track', 'types', 'pretend', 'lies', 'parts', 'h', 'teach', 'shows', 'end', 'tagged', 'angry', 'cut', 'washington', 'huskies', 'guess', 'pay', 'front', 'german', 'proposal', 'nno', 'propose', 'accept', 'test', 'x', 'tom', 'lol', 'equal', 'practice', 'often', 'solid', '2010', 'eastlake', 'fight', 'ecw', 'moved', 'week', 'air', 'dx', 'ones', 'mos', '21', 'uncivil', 'interesting', 'black', 'highest', 'eyes', 'gave', 'g', 'advice', 'large', 'proof', 'earlier', 'system', 'thinks', 'yours', 'claiming', 'job', 'cross', 'album', '23', 'response', 'errors', '8', 'players', 'profile', 'formal', 'baby', 'watch', 'tm', 'sourced', 'particularly', 'reviewer', 'goal', 'middle', 'otherwise', 'crime', 'mainstream', 'rest', 'likely', 'living', 'sitting', 'red', 'held', 'definitely', 'canada', 'spend', 'finally', 'morning', 'summary', 'notice', 'quit', 'opinions', '2007', 'open', 'total', 'van', 'nso', 'refusal', 'proposals', 'expert', 'directly', 'non', 'de', 'major', 'woman', 'supporters', 'format', 'looks', 'thus', 'citadel', 'calls', 'method', 'following', 'yeah', 'works', '___', 'category', 'reasoning', 'existing', 'james', 'uk', 'weapon', 'within', 'disputed', 'giving', 'thousands', 'terms', 'tamil', 'தம', 'ழ', 'ல', 'ர', 'ண', 'ய', 'everything', 'maybe', 'play', 'nt', 'ga', 'hello', 'threats', 'christianity', 'explanation', 'hour', 'addition', 'requests', 'irish', 'entire', 'clairvoyance', 'tao', 'literature', 'background-color', '#f5fffa', 'vertical-align', 'stalker', 'ownership', 'personally', 'boys', 'mentioning', 'pretty', 'learning', 'allegations', 'warring', 'necessarily', 'corporate', 'americans', '2011', 'honestly', 'posts', 'mistake', 'seeking', 'playground', 'boy', 'rude', 'liar', 'blatant', 'laws', 'fire', 'lake', 'author', 'vietnamese', 'published', 'flawed', 'died', 'campaign', 'nthere', 'mod', 'chart', 'phrase', 'near', 'speak', 'nsee', 'belongs', 'minority', 'suggests', 'april', 'texas', 'guy', 'ways', 'federal', 'explaining', \"wikipedia's\", 'guideline', 'bed', 'whom', 'deserves', 'purpose', 'education', 'wait', 'ganna', 'fuckin', 'gets', 'family', 'sick', 'treated', 'seemed', 'numerous', 'self', 'sockpuppet', 'thinking', 'watching', 'everytime', 'handle', 'accused', 'accusing', 'correctly', 'strongly', 'continues', 'rfa', 'supported', 'hate', 'sir', 'suggestion', 'inappropriate', 'regarded', 'greatest', 'km2', 'russia', '17', 'studied', 'prefer', 'pillars', 'produce', 'helpme', 'taking', 'project', 'appreciated', 'hopefully', 'professional', 'ability', 'courtesy', '27', 'star', 'speech', 'producer', 'imply', 'movies', '30', 'story', 'plus', 'concerned', 'former', 'latter', 'communicate', 'application', 'banning', 'mistakes', 'intentional', 'blood', 'visit', 'chinese', 'largely', 'truth', 'paper', 'functions', 'simple', 'picked', 'press', 'truck', 'accordance', 'copyright', 'nhey', 'ndid', 'motherfucker', 'fan', 'languages', 'love', 'nazi', 'fascist', 'link', 'prior', 'arguments', 'military', 'sections', 'exactly', 'wants', 'indeed', 'misleading', 'rhetorical', \"haven't\", 'sandbox', 'rights', 'douche', 'starting', 'home', 'hardly', '19', 'blvd', 'corrected', '429', 'compromise', 'penis', 'mirror', 'jannetty', 'officially', 'nshould', 'rumors', 'shortly', 'wwe', 'eric', 'university', 'acting', 'shame', 'rule', 'standards', 'program', 'busking', 'venue', 'performance', 'entries', 'night', 'finished', 'silence', 'wont', 'bias', 'lived', 'voted', 'nwell', 'mainly', 'primary', 'didn', 'charge', 'figure', 'playing', 'decided', 'noise', 'waiting', 'nfor', 'stand', 'forces', 'kill', 'citing', 'early', 'career', '22', 'disambiguation', 'listing', 'trivia', '07', 'canadian', 'ragweed', '12', 'whose', 'c', 'importance', 'interwiki', 'internal', 'incoming', 'eg', 'age', 'era', 'cricket', 'ranked', 'series', 'everywhere', 'sentence', 'double', 'schulz', 'un', 'fiction', 'kids', '2009', 'disappear', 'experience', 'soon', 'reverts', 'priyanka', 'ndoes', 'removal', '7', 'input', 'pull', 'provided', 'count', 'matches', 'cock', 'knowing', 'situation', 'forgot', '“', '”', 'event', 'haven', 'reporting', 'physical', 'room', 'presence', 'allowed', 'responsible', 'wore', 'virtually', 'display', 'finger', 'doubt', 'eventually', 'needed', 'associated', 'soviet', 'apparently', 'particular', 'car', 'jew', 'japanese', \"that's\", 'child', 'games', 'p', 'reflinks', 'tab', 'choose', 'apology', 'regarding', 'deserve', 'independence', 'movie', 'telling', 'fed', 'announced', 'nthen', 'insurance', 'issued', 'allowing', 'collapse', 'saved', 'understanding', 'depression', 'economy', 'lie', 'incorrect', 'dangerous', 'appeal', 'convinced', 'reply', 'order', 'copied', 'doesn', 'finding', 'relating', 'problems', 'next', 'skeptic', 'nhe', 'nhttp', ':/', 'doc', 'hold', 'contribs', 'troy', 'apologize', 'labour', 'communist', 'possibly', 'harry', 'lady', 'follow', 'whitehead', 'restore', 'citations', 'ready', 'caption', 'relevant', 'january', 'agreement', 'scheme', 'lassie', 'unique', 'structures', 'nwe', 'badge', 'require', 'hundreds', 'technology', 'fool', 'indicate', 'false', 'usually', 'மக', 'ந', 'ன', 'value', 'intended', 'side', 'objects', 'children', 'sell', 'squad', 'half', 'national', 'currie', 'vodacom', 'indicator', 'cc', 'vc', 'nthey', 'defined', 'linked', 'israel', 'ignored', 'alleged', 'authoritative', 'galloway', 'trouble', 'relation', 'weeks', 'kicked', 'nstop', 'madness', 'extinction', 'eunuchs', \"what's\", 'decorated', 'afd', 'polygon', 'frequently', 'spot', 'nature', 'theory', 'pieces', 'pounder', 'gun', 'honest', 'equality', 'entirely', 'formatting', 'kwa', 'goaded', 'multiple', 'orthodox', 'interests', 'hours', 'vassal', 'salvador', 'mental', 'health', '5', 'rewrites', 'detail', 'barnstar', 'mckay', 'mainpagebg', '55', 'border', '1px', 'weapons', 'accuse', 'suit', 'properly', 'proud', 'np', 'gain', 'concerning', 'henry', 'dad', 'arrogance', 'leaving', 'precious', 'willing', 'cia', 'copy', 'quote', 'wikileaks', 'mostly', 'identify', 'δt', 'constant', 'offensive', 'error', 'worry', \"mother's\", 'basement', 'whore', 'retarted', 'wiping', 'fucker', 'dumbass', 'throw', \"ya'll\", '1972', 'north', 'worse', 'almost', 'basis', '800', 'contrast', 'nto', 'modified', 'express', 'unit', 'leacon', 'explain', 'effigy', 'studios', 'nsorry', 'owner', '12th', 'doctor', 'nlook', 'npeople', 'dixon', 'individual', 'respected', 'judge', 'presented', 'sufficient', 'influential', 'smart', 'wtf', 'grow', 'brain', 'tribes', 'recognized', 'united', 'legitimate', 'usage', 'aka', 'girl', 'cheated', 'hurt', 'ultimately', 'property', 'childcare', \"ain't\", 'treat', 'helpfully', 'fisherqueen', 'jump', 'maintain', 'honor', 'wrestler', 'episode', 'clean', 'unhelpful', \"ni've\", 'continuously', 'aim', 'bother', 'afraid', 'peoples', 'genital', 'fit', 'wedge', 'keeps', 'assure', 'asskrack', 'puppetry', 'expect', '::', 'wishes', 'criticisms', 'logical', 'weak', 'bye', 'ima', 'miss', 'myspace', '`', 'criticism', 'nhaving', 'looked', 'non-notable', 'acceptable', 'deletions', 'encyclopaedia', 'land', 'ottoman', 'empire', 'force', 'obviously', 'confederation', 'balls', 'porn', 'adult', 'film', 'nhelp', 'ntutorial', 'nmanual', 'ugly', 'anal', 'retentive', 'authority', 'seconds', 'recognition', 'professionals', 'highly', 'involvement', 'bertiebasset', 'well-meaning', 'moronic', 'failed', '2005', 'uploaded', 'damaged', 'appears', 'fixed', 'violating', 'superman', 'smallville', 'closer', 'mike', 'teaching', 'normally', 'implying', 'illegitimate', 'motivated', 'stubborn', 'taught', 'guidlines', 'powers', 'sorry', 'guidance', '←', 'positions', 'numbered', 'northern', 'shouting', \"shouldn't\", 'learned', 'trig', 'oh-ah', 'ha', '1st', 'students', 'sin', 'tan', 'laughter', '45', 'speculation', 'unproven', 'charges', 'encyclopedic', 'happened', 'undue', 'load', 'jimmy', 'googlechromewindows5037538.png', 'thats', 'providing', 'remain', 'ndude', 'third', 'set', 'ducks', 'europe', 'map', 'uneducated', 'stick', 'hiding', 'pair', 'brief', 'discussions', 'limited', 'rebuttals', 'territory', 'serbia', 'dance', 'effect', 'co', 'perceived', 'proper', 'outcome', 'additionally', 'dr', 'immensely', 'obscure', 'balance', 'astrology', 'basic', 'freedom', 'plain', 'bunch', 'kindly', 'apart', '(:', 'racist', 'referring', 'paragraphs', 'forms', 'lame', 'xd', \"couldn't\", 'easily', 'accessible', 'library', 'difficult', 'nre', 'wasn', 'east', 'wrapped', 'city', 'pkwy', 'accessed', 'column', 'nyes', 'typical', 'loser', 'sexually', 'frustrated', 'net', 'omfg', 'insignificant', 'thnk', 'v', 'son', 'font-size', '85', 'gangrel', 'valet', 'bischoff', 'roster', 'talent', 'hasnt', 'released', 'signed', 'publicly', 'considering', 'match', 'sunday', 'promote', 'cant', 'seperate', 'albeit', \"aren't\", 'editorial', 'dates', 'threaten', 'blocks', 'hadn', 'wording', '2008', 'drops', 'brothers', 'african', 'nnot', 'nobody', 'experiment', 'notability', 'query', 'bag', 'performing', 'stage', 'distinction', 'pimping', 'aids', 'fascists', 'role', 'comply', 'fred', 'founders', 'sites', 'viewpoints', 'nnow', 'poop', 'jerk', 'justified', 'returns', '34,900', 'inconsistent', '>', 'treatment', 'perceive', 'self-promotion', 'debate', 'realize', 'grounds', 'openly', 'publications', 'similar', 'arbitrary', 'seemingly', 'agf', 'shoulders', 'commons', 'solution', 'regular', 'celtic', 'hippo', '43', 'join', 'bullied', 'scottish', 'michael', 'belive', 'young', \"c'mon\", 'ps', 'ur', '217.41', 'n14', 'extreme', '11', '08', '06', '03', 'n09', '28', 'billy', \"bob's\", '16', '13', 'nice', 'india', 'recentism', 'trumper', 'supreme', 'century', 'dhoni', 'odd', 'lists', 'piss', 'nany', 'stephan', 'writings', 'animal', 'censorship', 'politics', 'spam', 'stadium', 'pregnant', 'expanded', 'box', 'fired', 'watford', 'beat', 'leeds', 'reach', 'fall', 'reversion', 'referenced', 'excess', 'discussing', 'headed', 'walsh', 'whatsoever', 'materials', 'nwhere', 'background', 'compound', 'devoted', 'nah', 'appearances', 'shitty', 'feeling', 'spelling', 'ned', 'remarks', 'waiters', 'accounts', 'independently', 'merely', 'scene', 'credibility', 'recommend', 're-read', 'cite', 'authenticity', 'primarily', 'j', 'graduated', 'graduation', 'airport', 'plenty', 'passed', 'kept', 'location', 'sat', 'wine', 'continuing', 'house', 'alcohol', 'chatting', 'across', 'weekend', 'recliner', 'florida', 'skin', 'hair', 'thin', 'meeting', 'dress', 'stockings', 'heels', 'earrings', 'worn', 'fear', 'waking', 'inside', 'conduct', 'tiny', 'ear', 'absently', 'intimacy', 'bare', 'touches', 'familiar', 'intimate', 'longer', 'army', 'z', '6', 'curious', 'angle', 'declined', 'airing', 'certain', 'bullshit', 'character', 'immature', 'figured', 'cry', 'favor', 'click', 'web', 'retard', '«', '»', 'tempted', 'resource', 'happens', '50', 'dollar', 'club', 'k', 'australian', '35', 'resulted', 'informed', 'conclusions', 'supporting', 'fail', 'massive', 'private', 'occurred', 'explained', 'treasury', '69.121', '221.97', 'higher', 'qualified', 'appropriately', 'oil', 'gold', 'clue', 'nearly', 'push', 'congress', 'subprime', 'overall', 'smaller', '$', 'retrenchment', 'governement', 'fault', 'capital', 'formation', 'key', 'economic', '300', 'efficient', 'ventures', 'sequence', 'esp', 'core', 'special', 'fraudulent', 'representation', 'biographies', 'negotiable', 'base', 'promotional', 'artist', 'served', 'followed', 'spoken', 'hat', 'puzzled', 'pov', 'wwi', 'approved', 'reader', 'matt', 'sanchez', 'oldest', 'visual', 'compare', 'tidy', 'table', 'necessary', 'cases', 'apply', 'received', 'swedish', 'upload', 'projects', 'tries', '82.224', '230.5', 'trolling', 'noh', 'knows', 'fields', 'experts', 'educational', 'wonder', 'contribution', 'high-school', 'unquestionably', 'context', 'monster', 'sent', 'killed', 'versions', 'hercules', 'sack', 'uncivility', 'object', '=|', '__', 'nonce', 'brake', 'chain', 'cursed', 'uglyness', 'pass', 'napier', 'fit.jpg.jpg', 'altered', 'search', 'hasn', 'btw', 'explicitly', 'partido', 'translated', 'alternative', 'spanish', 'mascots', 'formed', 'deserved', 'bars', 'engage', 'fuckers', 'counted', 'figures', 'conditions', 'makers', 'hand', 'instance', 'declared', 'accepted', 'yugoslavia', 'draw', 'manga', \"won't\", 'nharry', 'cronies', 'insert', 'placing', 'improving', 'jane', 'wrights', 'reported', 'unreliable', 'bottom', 'refrain', 'meets', 'rick', \"people's\", 'infected', 'year-old', 'sexual', 'defines', 'countries', 'classification', 'romance', 'commonly', 'submitted', 'recorded', 'desk', 'salty', 'demonstrate', 'purple', 'truthseekers', 'facist', 'murderers', 'award', 'unbiased', 'hon', 'nis', 'edit-warring', 'laugh', 'abusive', 'disrespectful', 'dutch', 'fly', '‘', 'tilde', 'cedilla', 'pronunciatory', 'quickly', 'donkey', 'organisation', 'members', 'affirmative', 'tamilian', 'bodhidharma', 'ச', 'ஆத', 'ரம', 'ோ', 'கட', 'ப', 'அன', 'மற', 'வரல', 'ெ', 'amplitude', 'cultural', 'porto', 'alegre', 'cd-r', 'bruno', 'jazz', 'improv', 'cp', 'believed', 'music', '1991', 'toys', 'direction', 'among', '9', 'ages', 'teenagers', 'insulted', 'teenage', 'che', 'latin', 'ferret', 'nwith', 'dean', 'greyling', 'rayno', 'gerber', 'rossouw', 'klerk', 'basil', 'chiliboy', 'ralepelle', 'africa', 'sorted', \"isn't\", 'anti-zionism', 'religion', 'denied', 'theories', 'acts', 'arab', 'groups', 'international', 'offer', 'nslim', 'archives', 'weight', 'frighten', 'fry', 'glad', '94.8', '193.32', 'literally', 'norman', 'lowell', 'nregarding', 'beardy', 'puppet', 'anime', 'afc', 'september', 'investigation', 'meaning', 'judaism', 'targeted', 'whoever', 'approach', 'counter', 'productive', 'protect', 'intentionally', 'intention', 'pig', 'barrymore', 'shiroi', 'readers', \"pic's\", 'anus', 'nseems', 'refer', 'slavs', 'destroy', 'shall', 'nomination', 'otters', '39', 'build', 'industrial', 'beef', 'argue', 'heading', 'regard', 'euclidean', 'mathematical', 'approaches', 'polytopes', 'convex', 'described', 'begins', 'paragraph', 'grünbaum', 'submitting', 'dear', 'disrupting', 'wondering', 'insult', 'neopaganism', 'reaction', 'period', 'expired', 'procedure', 'comitted', 'repeatedly', 'takng', 'prevent', 'fanpop', 'disapprove', 'caught', 'science', 'worthy', 'refers', 'eu', 'citizens', 'accession', 'june', 'built', 'pack', 'combined', 'f2', 'design', 'replacing', 'centuries', 'spelled', 'pointed', 'ani', 'worth', 'pr', 'dabble', 'lacking', 'improvements', 'complaints', 'nazis', 'excellent', 'dicono', 'signa', 're-write', 'progess', 'include', 'operational', 'diligence', 'mexico', 'arse', 'yesterday', 'individuals', 'concerns', 'becomes', 'administrator', 'discretion', 'admit', 'heritage', 'wasting', 'rambhadracharya', 'assessment', 'email', 'twist', 'external', 'pending', 'tim', 'appalling', 'reviewed', 'numbers', 'addressed', ':p', 'thugs', 'adminship', 'step', 'path', 'el', 'nicaragua', 'childishly', 'meaningless', 'endless', 'matereal', 'wikpedia', 'referencing', 'philosophical', 'fulfill', 'integrity', 'bar', 'struggle', 'manifest', 'started', 'break', 'isis', 'cyberdyne', 'ling', 'dvd.jpg', 'checking', 'circumstances', 'undermine', 'marketing', 'mountains', 'penmon', 'suggested', 'nominating', 'tc', 'fukin', 'pattern', 'apologise', 'stupidity', 'misery', 'arthashastra', 'qed', 'https://en.wikipedia.org/wiki/mckay', 'surnames', 'border-spacing', ':8', 'px', 'margin', '0px', '8p', '#ffffff', 'koavf', 'smallminded', 'target', 'portal', 'watches', 'mytalk', 'ncomment', 'easier', 'suppose', '88', 'signatories', 'detract', 'voluntarily', 'rushed', 'judgment', 'incident', 'attempted', 'hoax', 'crystal', 'gail', 'mangum', 'lee', 'lucas', 'vile', 'post-modernist', 'sewer', 'cleansed', 'ninquiry-based', 'simon', 'inquiry-based', 'awesome', 'cares', 'impunity', 'nalright', 'concede', 'flimsy', 'wikleaks', 'msnbc.com', 'msnbc', 'stories', 'meme', 'founded', 'promulgated', 'vilify', 'minds', 'lynched', '101', 'thc', 'loadee', '04:08', 'cannt', 'insuliting', 'harrassing', 'moderator', 'tripping', 'enter', 'ndo', 'forgive', 'blazikenmaster', 'stikes', 'unnecessarily', 'ncunt', 'jizz', 'muther', 'sincere', 'nslander', 'mindless', 'geogre', 'slanderous', 'muthafuckas', 'dated', 'tract', 'vietnam', '1950s', 'kinds', 'condiscending', 'starts', 'embarrasing', 'awards', 'anti-landlord', 'nlf', 'stanley', 'karnow', '1983', 'hysterical', 'climate', '78.146', '90.164', 'nmod', 'swt', 'conforms', 'disability', 'grey', 'gatwick', '442', 'puting', 'units', 'nnote', 'benidorm', 'valencia', 'valencian', 'catalan', 'michigan', 'lookup', 'eminem', 'thomas', 'w', 'johnson', 'supremacist', 'tomfoolery', 'imediately', 'bully', 'worm', 'allen', 'lyle', 'campbell', 'scholar', 'australianist', 'competent', 'cambridge', 'surveys', 'sole', 'composer', 'coeditor', 'alles', 'liebe', 'haines', '1420', 'houston', 'missionary', 'wront', 'vandalized', 'numnut', 'gentlemen', \"let's\", 'unrecognized', 'cherokee', 'newly', 'tribe', 'belong', 'fantasize', 'seeing', 'girlfriend', 'blindfold', 'tie', 'fantasy', 'govt', 'paying', 'kindergarten', 'excuse', 'ipa', 'vowel', 'audio', 'ideot', 'wid', 'psp', 'slim', 'ta', 'weather', 'wit', 'homie', 'bout', 'mutha', 'syte', '3:00', 'hack', 'shyt', 'harras', 'basicly', 'ruin', 'failure', 'father', 'pleasure', 'derive', 'hatred', 'shed', 'tears', 'joy', 'disrupt', 'ring', 'humor', 'shootings', 'happen', 'innocent', 'forced', 'sandwiches', 'disruptor', 'layout', 'organized', 'nseason', '#series', '#titleu', 'airdateproduction', 'code', 'butts', 'nscrew', 'butthole', 'krabs', 'brandon', 'likes', 'delldos', 'mouththe', 'angus', 'finn', 'arnesson', 'correcting', 'eye', 'centered', 'listening', 'lodge', 'complaint', 'oblivious', 'pleads', 'corrections', 'wikipedia_talk', 'manual_of_style', 'dates_and_numbers', '#k_', '28or_k', '29_the_computer_kilo', '_prefix_', '_for_ancient_computers', '_not_using_bytes', 'hanibal', '911you', 'pro-assad', 'rebels', 'aleppo', 'central', 'prison', \"assad's\", 'mother-assad.you', 'eats', 'assad', 'gvhy', 'residents', \"starlet's\", 'philanthropy', 'exhaust', 'victims', 'torture', 'murder', 'utterly', 'revolting', 'whitewash', 'dimension', 'akradecki', 'bush', 'billcj', 'bzuk', 'fo', 'backs', 'organising', 'apersonal', 'complaining', 'deliberately', 'negative', 'consensuses', 'repetative', 'inserts', 'environmental', 'erroneously', 'contines', 'defences', 'eurocentric', 'essentially', 'racialist', 'essence', 'answering', 'nlmao', 'wasz', 'gon', 'dhis', 'lmao', 'logged', 'wat', 'sed', 'tho', 'neva', 'numba', 'thur', 'bighead', 'sarekofvulcan', 'confidence', 'misplaced', 'opposed', 'adjust', 'accordingly', 'bro', 'fagplease', '71.100', '31.227', 'gayreeks', 'nicely', 'executed', 'mates', 'empires', 'extent', 'comapre', '19.9', 'roman', 'territories', '5.9', 'furthermore', 'visited', \"ragib's\", 'ragib', 'bangladesh', 'similarly', 'parochial', 'chauvinist', 'un-necessary', 'snubbed', 'cumans', 'kipchaks', 'late', 'tatars', 'cossack', 'adventurer', 'turkish', 'turkic', 'origins', 'cossacks', 'tribal', 'race', 'suxk', 'nsssss', 'prejudicial', 'industry', 'reset', 'modem', 'sexless', 'desperate', 'society', 'lower', 'ill', 'pizza', 'ncheers', 'bertie', 'talents', 'helps', 'advance', 'agreed', 'nunfortunately', 'deprived', 'sterile', 'sake', 'generations', 'detracts', 'hinders', 'betterment', 'vision', 'intelligence', 'regrettably', 'extended', 'remembered', 'deserving', 'amateurs', 'dannyg', '3332', 'nov', 'cory', 'adams', 'telenet', 'uncovers', 'nactually', 'homepage', 'continuity', 'mixture', 'dealing', 'christopher', 'reeve', 'lex', 'rosenbaum', 'gene', 'hackman', 'goodness', 'prescription', 'wicked', 'linguists', 'abnormal', 'notion', 'culpable', 'decisions', 'ourselves', 'perverse', 'deplorable', 'patently', 'begin', 'incapable', 'acquire', 'instruction', 'invalid', 'activity', 'prescriptive', 'suggesting', 'timidity', 'laziness', 'irresponsibility', 'dedicated', 'proficiency', 'composition', 'nor', 'wikieditor', '006', 'ale_jrb', 'vendetta', 'intend', 'higher-ups', 'abusing', 'unless', 'immediately', '-67.173', '77.52', 'spilling', 'dying', 'deaths', 'unc', 'advantageous', 'bigger', 'noisy', 'crowd', 'brainwashed', 'chauvinistic', 'fanatic', 'naturally', 'admitting', 'circulated', 'messages', 'chiense', 'repeating', 'thousand', 'perfect', 'eyesights', 'consciousness', 'difference', 'naive', 'complicated', 'buried', 'takes', 'memory', 'consideration', 'tables', 'markup', 'ah-oh', 'ho', 'moderately', 'fast', 'nsine', 'cosine', 'tangent', 'cotangent', 'secant', 'cosecant', 'nunlike', 'soa-cah-toa', 'memorize', 'inverses', 'tongue', 'twister', 'memorable', '+', \"today's\", 'soh', 'cah', 'toa', 'mindedness', 'unsubstantiated', 'poorly', 'documented', 'editorialize', 'hide', 'spin', 'damaging', 'speculated', 'partisan', 'acted', 'proven', 'violation', 'established', 'blp', 'blpstyle', 'atricle', 'regurgitation', 'dump', 'junk', 'closing', 'leader', 'tabloid', 'wales', 'aloud', 'painting', 'herself', '70.26', '72.221', 'expecting', 'lords', 'nabout', 'choices', 'dishonore', 'ou', 'choice', 'suitable', 'heart', 'uw', 'dawgs', 'oregon', 'beating', 'crushed', 'ashamed', 'butthurt', 'calm', 'sucking', 'npatrick', 'tommy', 'adolf', 'nose', 'affairs', 'concern', \"nit's\", 'wannabe', 'screen', 'asshat', 'clownshoes', 'twit', 'clowns', 'feeble', '1000', 'reactions', 'commander', 'occupation', 'sooner', 'noticeboards', 'annoying', 'song', 'posting', 'antidiskriminator', 'new-found', 'ally', 'oppose', 'agreed-upon', 'effective', 'complex', 'thoroughly', 'bogged-down', 'on-the-fly', 'drowned', 'far-more-knowledgeable', 'retorts', 'long-time', 'participants', 'experimenting', 'tests', '✍', 'commented', '#more', 'fuckwit', 'expression', 'rant', 'ridicilous', 'proves', 'bags', \"should've\", 'bombed', 'wwii', 'jim', 'sending', 'bestest', 'buddy', 'sidenote', 'xizer', 'ndan', 'footing', 'abstract', 'summarizing', 'substance', 'relations', 'youths', 'satisfying', 'requirements', 'prehistory', 'basing', 'historians', 'suppositions', 'practices', 'prehistoric', 'precedent', 'tenuous', 'pederasty', 'worthless', 'cocksucking', 'successfully', 'preaching', 'choir', 'ntv', 'gag', 'tempting', 'eh', 'illustration', 'shabby-russian-village-population-five', 'yo', '21:47', 'rose', 'librarian', 'bloody', 'categories', 'devil', 'cultist', 'mofo', 'martin', 'muljana', 'transwikied', 'driver', 'neastlake', 'nsigns', 'construction', 'phase', 'carson', 'freeway', 'signs', 'analogous', '430', 'damonte', 'ranch', 'meadows', 'neil', 'road', 'virginia', 'interchanges', 'notes', 'dahn', 'illiterate', 'inability', 'satisfy', 'ndahn', 'headline', 'lover', 'motha', 'fucka', 'yr', 'viewing', 'outdated', 'affiliation', 'located', 'http://en.wikipedia.org/wiki/.\\\\n|', 'sylvester', 'terkay', 'elijah', 'burke', 'theyre', 'promo', 'khali', 'bodyguard', 'daivari', 'wrestled', 'nidk', 'isnt', 'marty', 'brand', 'hes', 'inactive', 'untrue', 'ties', 'overweight', 'nangel', 'williams', 'gymini', 'dark', 'sd', 'nlastly', 'shouldnt', 'raw', 'cyber', 'develop', 'storyline', 'screwed', 'nim', 'chris', 'purposes', 'eternals', 'deviants', 'inhumans', 'races', 'interbreed', 'humans', 'unmanageable', 'biaatch', 'posers', 'statistics', '1.0', 'pittsburgh', 'usbecause', 'kn', 'njames', 'delinking', 'adminster', 'quadell', 'ambi', 'vsmith', 'feels', 'adhered', 'nweird', 'advocating', 'ncdave', '17:53', 'ndominican', 'proportion', 'blacks', 'hispanic', 'one-drop', 'blind', 'bats', 'rely', 'russian', 'dumm', 'rabbits', 'hike', '123', 'teawiki', 'www.tea.wikia.org', 'transferring', 'baggage', 'theatre', 'opera', 'ballet', 'criminial', 'loose', 'l', 'downtown', 'preach', 'kenny', 'jfd', 'skies', 'complain', \"hadn't\", 'atrosity', 'tay', 'nevaluate', '74.56', '51.128', 'dpak', 'dsuza', 'offend', 'martial', 'earth', 'permanently', 'farce', 'objective', 'knol', 'horizon', 'replacement', 'mask', 'npov', 'opposing', 'permanent', 'yourwarning', 'shake', 'salt', 'shove', 'pipe', 'agarwals', 'dravidian', 'atr', 'dogs', 'inaccuracies', '117.211', '90.154', 'teadrinker', 'nickname', 'e-dog', '13500', 'cato', '19,000', '35000', '19000', '50,000', 'refrained', 'pressure', 'fits', 'applies', 'abstain', 'nunderstandable', 'justice', 'seeker', 'vindicate', 'unfair', 'moon', 'minding', 'okay', 'mei', 'konw', 'vanity', 'pissed', 'rebutted', 'initiated', 'vandalizedhans-hermann', 'hoppe', 'lew', 'rockwell', 'racism', 'ensuing', 'qualify', 'wikinerds', 'ain', 'dishonestly', 'anonymously', 'meatpuppet', 'hidden', 'rolling', 'ot', 'voters', 'evaluation', 'aplication', 'leads', 'peopel', '13000', 'blame', 'monitoring', 'nom', 'lsi', 'invited', 'rfar', 'substantiate', 'adequate', 'burden', 'rests', 'squarely', 'yep', 'ww', 'past', 'uploading', 'photos', 'technical', 'calabe', 'record', 'pursued', 'originator', 'defended', 'occasions', 'jack', 'forbes', 'deacon', 'pndapetzim', 'folks', 'abuses', 'pursuing', 'defence', 'footbal', 'football', 'rangers', 'presenting', 'burn', 'nruddy', 'liberal', 'moore', 'truthful', 'tits', 'snatch', 'ntotal', 'sexuality', 'nmabye', 'partner', 'pop', 'aaron', 'brennenman', 'sincerly', 'sentiment', 'fagget', 'ncheck', '58.8', '18.35', 'holdwater', 'wife', 'unsatisfied', 'cont', 'nasty', '232.75', 'relentless', 'persecution', 'nbugs', 'quiet', 'currant', '226.121', 'lowlife', 'resurected', 'wikzilla', '98.162', '163.72', 'nperezhilton', 'sucker', '05:35', 'glen', 'jacobs', 'jonathan', 'coachman', 'd-generation', 'n18', '29', 'hank', 'n15', '56', 'stone', 'cold', 'steve', 'austin', 'finishing', 'signature', 'moves', '54', 'championship', 'wrestling', '14', 'fishman', '01', '00', '59', '57', 'hitting', 'rey.jpg', 'http://www.wwe.com/shows/thegreatamericanbash/photos/', \"chavo's\", 'heel', 'turn', 'rey', 'garage', 'highway', '377', 'liveloud', 'jpg', 'dustind', 'nhy', 'nproxies', 'kerala', 'kerala-importance', 'assess-date', 'dependent', 'victor', 'crown', 'prince', 'golden', 'stylist', 'batsman', '1890-1920', 'giants', 'wisden', 'inuaugural', 'inductee', 'achof', '105', 'mahendra', 'singh', 'captain', '30th', 'batting', 'criticised', 'regualrly', 'unforced', 'ball-catching', '170', 'tournament', '200', 'calendar', 'poll', 'unacceptable', 'editted', 'containing', 'vague', 'pronoun', 'unrelated', 'blog', \"ni'm\", 'unfarily', 'riding', 'sane', 'attest', 'narrow-minded', 'puts', 'ridicules', 'leash', 'socialist', 'climatology', 'conversion', 'spewed', 'yes-men', 'scientists', 'ipcc', 'shagger', 'brutal', 'demonstrating', 'civilization', 'nuser', 'auburnpilot', 'wikisophistry', 'strategem', 'censoring', 'dislikes', 'croke', 'park', 'gaa', 'arena', 'falls', 'cat', 'ariva', 'achieve', 'undo', 'jackass', 'absolute', 'convince', 'dilweed', 'jackoff', 'incorporated', 'nshut', 'silhouette', 'gothic', 'niederlandish', 'art', 'botticelli', 'italian', 'renaissance', 'classical', 'fashion', '10:29', 'dunning-kruger', 'treating', 'guoguo', 'weird', 'alright', 'talkback', 'tdawg', '4701', 'nshahid', 'cleanup.he', 'preity', 'zinta', 'building', 'chopra', 'expanded.he', 'writer.when', 'sectiond', 'humanitarian', 'notably', 'refrence', 'always.according', 'musicians', 'edits.also', 'songs', 'songwriter', 'again.that', 'leading', 'abuse.you', 'shoul', 'expand', 'nbold', 'legs', 'play-off', 'semi-final', 'premiership', 'semi', 'dreamguy', 'irwolfie', 'amounts', 'unaware', 'arbcom', 'discretionary', 'sanctions', 'peremptory', 'controversial', 'confrontational', 'self-reverting', 'mediation', 'reviews', 'objection', 'fancruft', 'careful', 'minute', 'contain', \"they're\", 'smuggling', 'condoms', 'seran', 'wrap', 'size', 'pre-amalgamation', 'hamilton', 'toronto', '24.36', '54.238', 'eisenhower', 'bum', 'golf', 'constantly', 'nixon', 'ran', 'historic', 'ndumb', 'basics', 'pronounce', 'literaly', 'litrally', 'chic', 'crackpots', 'luckiest', 'nhl', 'extensive', 'linguistics', 'compounds', 'phrases', 'concept', 'compounding', 'merging', 'lexeme', 'lexemes', 'spaces', 'item', 'proved', 'scope', 'beach', 'pier', 'cetaceans', 'shore', 'earn', 'blundering', 'boat', 'goals', 'domestic', 'league', 'scored', 'friendly', 'mexican', 'mexicans', 'departed', 'nerd', 'precise', 'forever', 'douchebag', 'ngo', 'adam', 'carr', 'longhair', 'politically', 'commies', 'lefties', 'righties', 'pricks', 'wikiepdians', 'kelly', 'e-life', 'wolfkeeper', 'evident', 'conclude', 'oath', 'corroborate', 'captured', 'lends', 'rs', 'dug', 'outlets', 'assured', 'recognize', 'compliant', 'accord', 'debating', 'hahaahahahahahahaha', 'vandalise', 'enthusiastic', 'hugs', 'dinner', 'shared', 'local', 'restaurant', 'comfort', 'attraction', 'undeniable', 'returned', 'cozy', 'semi-secluded', 'suburbs', 'sipping', 'tales', 'exceptions', 'tight-knit', 'friends-with-benefits', 'sharing', 'drink', 'roommates', 'dorm', 'quad', 'much-welcomed', 'guests', 'fortunately', 'hectic', 'schedules', 'sip', 'linger', 'sun', 'glow', 'lighter', 'shade', 'shoulder-length', 'brown', 'make-up', 'gloss', 'lips', 'enticing', 'strawberry', 'flavor', 'discovered', 'evening', 'fingernails', 'elegant', 'plunging', 'sequined', 'neckline', 'permitted', 'cleavage', 'slit', 'skirt', 'revealed', 'wearing', 'garter', 'belt', 'descending', 'straps', 'noticeable', 'well-toned', 'thigh', 'attract', 'surprisingly', 'hoop', 'ears', 'widen', 'piercing', 'holes', 'safe', 'turned', 'toward', 'opportunity', 'impressed', 'noticeably', 'shorter', 'paler', 'complexion', 'testament', 'preferred', 'outfits', 'somewhat-tight', 'sweater', 'form-fitting', 'slacks', 'adorned', 'bore', 'sparkling', 'stud', 'nostril', 'flowed', 'twirled', 'strands', 'listened', 'relationships', 'graduating', 'thankful', 'invite', 'chatter', 'sit', 'admire', 'stunning', 'beauties', 'perched', 'sofa', 'began', 'covers', 'feminine', 'resting', 'softly', 'shoulder', 'arm', 'stroked', 'chest', 'dipped', 'navel', 'brushed', 'thighs', 'sweatpants', 'typically', 'caressed', 'stiffening', 'manhood', 'closed', 'reveled', 'inherently', 'rediscovery', 'lengthy', 'passage', 'hands', 'occasionally', 'smiled', 'darkness', 'enjoyed', 'encounters', 'slowed', 'ceased', 'breathing', 'falling', 'regularity', 'sleep', 'stayed', 'awake', 'enjoying', 'closeness', 'awoke', 'scent', 'roast', 'coffee', 'faint', 'unmistakable', 'brewed', 'nectar', 'sh', 'stub', 'tankmen', 'armoured', 'troops', '2005-12-', '17:34', \"user's\", 'csds', 'accidental', \"you'd\", 'reinstate', 'unsourced', \"person's\", 'intentions', 'temperarily', 'blanking', 'send', 'timeslot', 'hopping', 'nsomething', \"wpbs's\", 'notorious', 'habit', 'shifting', 'timeslots', 'programs', \"they've\", \"blake's\", 'dwarf', \"liberty's\", 'viewers', 'n76', '235.235', '223', 'sooooooooooooo', 'haz', 'dcandeto', 'smells', '90', 'broken', 'masturbator', 'onanizing', 'brainsick', 'spread', 'freaky', 'importand', 'stealing', 'nare', 'pollute', \"obama's\", 'snot', '33', 'creations', '17:33', 'nwow', 'aliases', 'twice', 'daymee', 'friend', 'bothering', 'b', 'username', '70.127', '205.121', 'pc', 'ref', '}:', 'conclusion', \"ndude's\", 'pimp', 'chair', 'exudes', 'pimpocity', 'contacting', 'substantive', 'abject', 'picture', 'https://www.cia.gov/library/publications/the-world-factbook/geos/in.html', 'gogh', \"cent's\", 'f', 'yeeaaaaahh', 'fighters', 'constitute', 'yank', 'modification', 'win', '173.76', '119.10', 'arranged', 'timothy', 'president', 'ny', 'nyc', 'newspapers', '40', 'billion', 'res', 'timonthy', 'bernake', '100s', 'billions', 'mortgage', 'trillions', 'derivatives', 'nwithout', 'credited', 'saving', 'reversed', 'gietner', 'depth', 'dictate', 'systemic', 'risk', 'shown', 'nbe', 'determine', 'harvey', 'keitel', 'markit', 'bon', 'vivant', 'niq', 'touted', 'nhim', 'nneither', 'nvia', 'fighting', 'spike', 'prices', 'meltdown', 'studies', 'ioq', 'ix', 'ndemonizing', 'bubble', 'greenspan', 'mortgages', 'fannie', 'mae', 'debacle', 'beginning', 'projected', 'inflation', 'spikes', 'massively', 'slammed', 'perking', 'debaclev', 'trillion', 'nnext', 'jaw', 'boning', 'funds', 'coup', 'grace', 'consumers', 'hugely', 'obama', 'mouthed', 'nwall', 'aided', 'consumer', 'congres', 'pundits', 'population', 'gambling', 'distortion', 'ndestruction', 'features', 'oversight', 'protecting', 'ncapital', 'engine', 'growth', 'distribution', 'mouthing', 'npublicly', 'heads', 'cnn', 'cnbc', 'severely', 'nof', 'dominance', 'leadership', 'nadded', 'destruction', 'prosecute', 'selling', 'firms', 'banks', 'nesp', 'increasing', 'crecend', 'stripped', 'bones', 'apparent', 'elias', 'temporarily', 'label', 'blogs', 'flexibility', 'nadditionally', 'filled', 'puff', 'cushion', 'management', 'closet', \"everyone's\", 'miserable', 'bugs', '2k15', 'confirmed', 'bugging', 'threat', 'annoyed', 'shut', 'kidding', 'elliott', 'gorn', '2001', 'isbn', '0-8090-', '7094-4', 'describing', 'offended', 'relished', 'improper', 'mistaken', 'perception', 'supporter', 'nbest', 'nraymond', 'cambefort', 'gainsay', 'soldier', 'vet', 'cuz', 'funeral', 'sincerily', 'taste', 'disadvantages', 'contains', 'duplicate', 'appealing', 'fills', 'breaks', 'surprised', 'real-time', 'reconstructed', 'charlotte', 'benkner', 'older', 'technically', 'nsecond', 'redundancy', 'visually', 'yakłtalk', 'tome', 'empty', 'thoughtlessness', 'theoretical', 'retroactive', 'two-liner', 'whereas', 'consideirng', 'nlet', 'horace', 'wass', 'athanasiou', 'diakou', 'nperhaps', 'sv', 'sjömarken', 'pictures', 'average', 'utilitarianism', 'replace', 'evergreenfir', 'transform', 'muahahaha', 'scientifics', 'graded', 'debunker', 'debunk', 'www.sptimes.com/floridian/41498/the__quack__hunter.html', 'amazing', 'skepticism', 'h2g2bob', '12/13', 'non-life', 'geek', 'talkng', 'trust', 'nhis', 'skills', 'personality', 'intellectual', 'abilities', 'nback', 'flummery', 'enlist', 'skill', 'randi', 'expertise', 'scientifc', 'kings', 'pitious', 'scietific', 'vs', 'non-scientific', 'methods', 'explains', 'psychics', 'fakers', 'challenge', 'minus', 'inferred', 'guessing', 'degree', 'attended', 'demonstrates', 'attacking', 'poseidon', 'perseus', 'myth', 'herakles', 'slew', 'prize', 'led', 'sons', 'aeacus', 'trojan', 'anti-russian', 'mud', 'nwhats', 'lgbt', 'tiderolls', 'phage', 'desperately', 'files', 'breach', 'apologised', 'refusing', 'acknowledge', 'acknowledgement', 'irrelevant', 'generic', 'correspondents', 'del', 'trabajo', 'albanian', 'parties', 'identical', 'launched', 'x-country', 'laborista', 'customisable', 'steel', 'poured', 'bolton', 'steelworks', 'girder', 'nwhen', 'reaches', 'characters', 'realisation', '86.173', '169.144', 'drunk', 'sock-puppet', 'infamous', 'pé', 'chinelo', 'soulless', 'paul', 'gamergate', 'proposed', 'sometimes', 'dozens', 'retiring', 'arbitrators', 'chance', 'bound', 'wade', 'morass', 'allways', 'wind', 'hill', 'ect', 'actualy', 'laara', 'lick', 'pussy', 'bih', 'stoped', 'slovenia', 'otrs', 'ticket', '2009051010', '000428', 'boze', 'hadleigh', 'monkeyzpop', 'questioning', 'illuminate', 'en.wikipedia.org/wiki/talk:boze_hadleigh', 'eternal', 'pink', 'named', 'evreryone', 'rubbish', 'finish', 'adamant', 'hasnains', 'arrested', 'traced', 'mercury', 'pakistan', 'beauty', 'pageant', 'non-reliable', 'secure', 'defaming', 'rumour', 'dismissed', 'defame', 'labelled', 'rumours', 'nsonisona', 'nbinksternet', 'gustave', 'denigrates', 'researchers', 'negativity', 'appearance', 'hens', 'wright', 'enthusiasts', 'controlling', 'non-neutral', 'dislike', 'television', 'ct', 'legislature', 'flight', 'bible', 'aviation', 'determined', 'open-minded', 'cult', 'binksternet', 'anothor', 'tv', 'specializes', 'historical', 'documentaries', 'mobbing', 'mob', 'bitter', 'connection', 'legend', 'nspeedy', 'introducing', 'contest', 'db', 'coupled', 'criterion', 'delay', 'hesitate', 'render', 'conformance', 'nwelcome', 'lomobile', 'dope', 'vandalising', 'tough', 'criticizing', 'mom', 'reads', 'intensely', 'pruritic', 'papulonodular', 'eruption', 'orientation', 'desease', 'enforce', 'stereotype', 'stds', 'n88', '217.49', '147', 'terrorist', 'democrats', 'elonka', 'nsucks', 'cocks', 'standardization', 'nz', 'missile', 'propulsive', 'energy', 'launch', 'ar', '310-25', 'speaking', 'placement', 'gallo-italic', 'italo-dalmatian', 'hahahahahaha', 'mwahahahahaha', 'herbine', 'arkansas', 'assessed', 'stub-class', 'grading', 'registering', 'organ', 'meat', 'tasty', 'salted', 'wegetarian', 'swallow', 'gratify', 'consume', 'curry', 'scented', 'plan', 'arborsculpture', 'bending', 'grafting', 'shoots', 'unusual', 'designs', 'narborsculpture', 'rape', 'nnaconkantari', 'rapists', 'finder', 'anonymous', 'everybody', 'hip-hop', 'mc', 'lyte', 'emcees', 'nsince', 'female', 'emcee', 'undisputed', 'nrule', 'naward', 'tomstar', '81', 'staff', 'courageous', 'forthright', 'exemplary', 'reconition', 'honoured', 'traditions', 'dictators', 'mass', 'forehead', 'diligent', 'factual', 'keen', 'newcomers', 'fend', 'rerasons', 'calibre', 'sanshonest', 'leaders', 'aligned', 'disagree', 'rewriting', 'nsame', 'lord', 'poshname', 'maj', 'bellamy', 'ntitle', 'hunk', 'controversy', 'circular', 'crazy', 'communications', 'disagreed', 'disagreement', 'ockels', 'astronaut', 'prgram', 'lodewijk', 'den', 'berg', 'ñ', 'ç', 'learns', 'piñata', 'façade', 'pronounced', 'ʻokina', 'learnt', 'unfamiliar', 'therewith', 'borrowed', 'function', 'aid', \"mi'kmaq\", 'hieroglyphic', 'couldn', 'majority', 'homeland', 'ravaged', 'benefit', 'british', 'courts', 'unconstitutional', 'becuase', 'disriminates', 'bodhidarama', 'forgotten', 'outsiders', 'nஅவர', 'பட', 'யல', 'வர', 'எனவ', 'எ', 'ீ', 'வல', 'தளம', 'அவர', 'ஒர', 'என', 'கண', 'உதவ', 'ழர', 'எங', 'மறக', 'டம', 'றக', 'இர', 'நம', 'எந', 'ள', 'மறந', 'nநன', 'observe', 'terminology', 'maximum', 'elelctric', 'peak', 'electric', 'vary', 'jamais', 'fomos', 'modernos', 'december', 'ken', 'vandermark', 'concert', 'santander', 'brazil', 'featuring', 'bode', 'eleven', 'ambient', 'electronics', 'institutions', 'releasing', 'netlabels', 'distros', 'drummer', 'styles', 'focus', 'bass', 'trio', 'punk', 'rock', 'diego', 'solo', 'clarinet', 'audience', 'freely', 'improvised', 'structured', 'improvisation', 'homonymous', 'antropology', 'essay', 'latour', 'ntime', 'instruments', 'flutes', 'whistles', 'harmonicas', 'kazoos', 'percussion', 'aleatory', 'intuitive', 'session', 'offers', 'mats', 'gustafsson', '15th', 'distributed', 'aficionados', 'mold', 'butt', 'insistent', 'uhhhh', 'touch', 'ancient', 'crock', 'dictionary', 'infancy', 'puberty', 'remotely', 'salacious', 'adults', 'describe', 'problematical', 'ultimate', 'legally', 'define', 'minors', 'babies', 'raped', 'judith', 'reisman', 'ashcroft', 'david', 'finkelhor', 'semantic', 'employed', 'disqualification', 'holding', 'perspective', 'perpetuating', 'pseudo-science', 'flim-flam', '20:10', 'shot', 'glorious', 'motherfucking', 'lets', 'antiheros', 'accolades', 'brainless', 'hypocritical', 'marxist', 'pigs', 'nmeanie', 'ncurrent', 'redoing', 'teams', 'springboks', 'contracted', 'nprops', 'nhooker', 'season', 'nhowever', 'alternate', 'propsnamentsrccvc', 'hookers', 'footnotes', 'franchise', 'affiliated', 'union', 'slight', 'variation', 'developed', 'simplify', 'suggestions', 'tidying', 'highbeam', 'jstor', 'stoneham', 'fatuorum', 'unprotected', 'new_anti-semitism', '#sourcing_claims_for_', '22country', 'specific_incidents', 'incidents', 'radical', 'defining', 'judenhass', 'emanates', 'characterized', 'demonization', 'ethnicity', 'member', 'self-determination', 'judged', 'neighboring', 'collectively', 'symbols', 'classic', 'libels', 'resurrected', 'wild', 'conspiracy', 'involving', 'zionists', 'israelis', 'plotting', 'governments', 'scenes', 'terror', 'mistakenly', 'attributed', 'islamic', 'excused', 'straw-man', 'condemn', 'unreasonable', 'deny', 'accompanied', 'resurgence', 'violence', 'synagogues', 'schools', 'conjunction', 'anti-americanism', 'anti-globalization', 'phenomenon', 'components', 'livingstone', 'allegation', 'unwise', 'nus', 'ephemeral', 'nlivingstone', 'talks', 'election', 'disagreements', 'remind', 'elements', 'suicides', 'njust', 'commit', 'suicide', 'katie', 'lea', '68.54', '163.153', 'divinity', '31', 'nok', 'a-hole', \"you'll\", 'nishkid', 'sage', 'soothing', 'soemone', '75.21', '101.63', 'youn', 'hooray', 'teahouse', 'durova', \"nyou're\", 'obsessed', 'joa', 'wich', 'athough', 'closely', 'watched', 'repeat', 'federation', 'nominally', 'outright', 'skyteam', 'klm', \"i'd\", 'preempt', 'crazed', 'fans', 'airline', 'hahaha', \"that'll\", 'nlol', 'moar', 'disruption', 'da', 'absence', 'revocation', 'nat', 'typing', 'reiterate', 'affect', 'administrate', 'herd', 'liek', 'mudkips', 'log-in', 'membere', 'moderation', 'weasel', 'insted', 'notify', 'neutral-sounding', '14:36', 'dickheads', 'brought', 'reject', 'obnoxious', 'water', 'tower', 'nsean', 'broom', 'wikitan', 'sticky', 'pocky', 'sad', 'tubby', 'fellow', 'simpsons', 'obesessives', 'overpopulated', 'noted', 'verifiable', 'feedback', 'mad', '190.242', '99.226', 'denial', 'culture', 'cheap', 'moukity', '11th', 'higgys', 'harass', 'summaries', \"wasn't\", 'rescue', 'heroes', 'sockpuppetry', '134.153', '184.17', 'pharisee', 'debated', 'thinkers', 'brian', 'mclaren', 'hannah', 'm.g.shapero', 'zoroastrianism', 'lucky', 'bands', 'dancers', 'sometime', 'concur', 'postscript', 'nkommandohimmler', 'lässt', 'grüßen', 'nancy', 'fatass', 'observing', 'girls', 'waddle', 'sexy', 'recoil', 'horrer', 'chocolate', 'dangerously', 'obese', 'hastle', 'nedit', 'dialogue', 'galton', 'watson', '#bad', '#surname', 'plant', 'bruce', 'perens', 'groklaw', 'nrevoke', 'infiltrator', 'nliar', 'scum', 'malice', 'aforethought', 'blast', 'harmful', 'erroneous', 'nwho', 'worried', 'sued', 'made-up', 'bs', 'direct', 'fortune', 'defending', 'nshe', 'capacities', 'guardians', 'womens', 'quarters', 'administrative', 'existed', \"byt's\", 'contributed', 'confusion', 'confused', 'servers', 'terribly', 'slow', 'diffs', 'solved', 'somehow', 'mess', 'salix', 'alba', 'mcgeddon', 'legal', 'libellious', 'e-pill', 'forcing', 'dubious', 'uer', 'thread', 'subheader', 'pain', 'encylopedic', 'engaged', 'progress', 'overlinking', 'whisper', 'babu', 'aside', 'nwhatever', 'politely', 'coudl', 'suspected', 'intervention', 'consequence', 'obolensky', 'tried', 'steal', 'consulate', 'revolution', 'tolerate', 'byzantine', 'fyromian', 'alexandor', 'makedonski', 'slav', 'queen', 'england', 'nrfd', 'zeus', 'nominated', 'participate', 'hammer', 'finest', 'n99', '141.246', 'river', 'bridge', 'bits', 'andpieces', 'audie', 'murphy', 'nroam', '41', 'month', 'penned', 'archived', 'insight', 'appreciate', 'titled', 'q', 'photographer', 'designer', 'writer', 'portions', 'demolished', 'planet', 'represents', 'significance', 'wheres', 'urbanarcheolgy', 'racial', 'censor', 'tyrant', 'region', 'celestial', 'sphere', 'ecliptic', 'defense', 'dictatorships', 'killings', 'awful', 'didier', '#', '3rd', 'channel', 'improved', 're-titiled', 'samantha', '555', 'power-mad', 'pulls', 'november', 'encounter', 'elementary', 'introductory', 'differ', 'appreciation', 'grew', 'historically', 'thrashing', 'differing', 'emerged', 'lightly', 'substantially', 'chip', 'ping-pong', 'widely-read', 'specialised', 'precisely', 'encountered', 'mathematician', 'drawing', 'subsequent', 'nmore', 'pentagram', 'recognised', 'archimedes', 'excluded', 'formally', 'understood', 'mathematicians', 'omit', 'descriptors', 'treatments', 'implicitly', 'introduction', 'luxury', 'conform', 'preconceptions', 'polygons', 'divided', 'self-intersect', 'proviso', 'ideas', '20:34', 'resubmitted', 'confirmation', 'silliness', '05:18', 'jun', 'natalya', 'pasichnyk', 'logged-in', 'noun', 'influence', 'correctness', 'johnny', 'nshit', 'leverne', 'gender', 'transgender', 'met', 'foreigners', 'shout', 'mouth', '4ever', 'butyou', 'benned', 'wps', 'swearing', 'nreligious', 'struggling', 'existence', 'discriminates', 'discriminate', 'fringe', 'flavours', 'separation', 'church', 'strictly', 'tautology', 'elucidate', '𒁳', 'ended', 'archive', 'conversations', 'nautomatically', 'wen', 'combination', 'responses', 'communicating', 'anywhere', 'neither', 'fulfilled', 'irregularities', 'normal', 'thoughtless', 'decission', 'frankly', 'realized', 'enormous', 'despotically', 'unjustified', 'grade', 'stil', 'carry', 'constructively', 'sounds', 'gang', 'pedestrian', 'wise', 'advices', 'positive', 'fulfilling', 'carried', 'repressive', 'measures', '3rr', 'consecutive', 'intervening', 'counts', 'sagaiousphil', 'pillockbrain', 'elast', 'sagacious', 'intellect', 'hates', 'superiors', 'injury', 'nlegobatman', '3609', 'icekid', '1994', 'voice', 'throat', '71.246', '51.122', 'computers', 'solve', 'nsolve', 'ai', 'overlap', 'piotrus', 'blow', '12.176', '20.2', 'sundos', 'mohammed', 'ibrahim', 'al-mansoury', 'sudanese', 'ksa', 'riadh', '2002', 'khartoum', 'garden', 'collage', 'department', 'training', 'violate', 'regulations', 'userpage', 'paraded', 'streets', 'european', 'popular', \"romania's\", '70', 'romanian', '22:49', 'shits', 'imma', 'rcaist', 'bitches', 'ammunition', 'licenced', 'm777', 'origon', 'titanium', 'barell', 'assembled', 'britian', 'ntwo', 'imperial', 'sized', 'guns', 'metric', 'dimensions', '9.2', 'l5', 'howitzers', 'reserve', 'stopped', '1990', 'mortar', 'motar', 'supprised', 'service', '1960', 'n101', '171.170', '142', 'ncentury', 'formats', 'jersey', 'nineteenth', 'twentieth', '19th', '20th', 'shouldn', 'allows', 'requiring', 'legislative', 'tea', '21st', 'internally', 'disingenuous', 'raise', 'aggravating', 'unnecessary', 'audacity', 'insist', 'baseless', 'proverb', 'truism', 'self-evident', 'reminder', 'literary', 'device', 'counterexamples', 'npoop', 'pee', 'toot', 'fart', 'gas', 'diareah', 'nzoey', 'stinks', 'marry', 'prohibited', 'whomever', 'nwhilst', 'out-of-print', 'releases', 'spurious', 'recycled', 'sadly', 'passes', 'begs', 'tuppence', 'advantage', 'commercial', 'egotistical', 'transgressed', 'arcane', 'attribution', 'coincidence', 'marmite', 'argumentative', 'straight', 'drafts', 'yellow', 'sticker', 'rid', 'harassing', \"ip's\", 'chelsea', 'manning', 'nwtf', 'clearer', 'unreferenced', 'unreviewed', 'childs', 'websites', 'pro', 'suffer', 'horribly', 'n2010', 'pretoria', 'runaway', 'nhappy', 'assistance', 'gotten', ';-)', 'nglad', 'half-considered', 'lo', 'aroenel', \"here's\", 'forth', 'feminist', 'synth', 'slaves', 'promotes', 'promoting', 'fenian', 'nnice', 'wrist', 'wip', 'present', \"we're\", 'participant', 'neiln', 'under-referenced', 'gamut', 'hexachord', 'concepts', 'lacks', 'grove', 'inadequate', 'fuller', 'bibliographic', 'details', 'attend', 'tied', 'u2009noetica', '♬', '♩', 'u2009talk', 'caps', 'demon', 'capitalized', \"there's\", 'inconstructive', 'jvstvs', 'hmmm', 'two-way', 'dab', 'nanswer', 'uncapitalised', 'raising', 'allof', 'battleis', 'campaignbox', 'connected', 'dis', 'unlike', 'sucks', 'revaling', '68.205', '182.184', 'creeping', 'thankyou', 'www.enotes.com/psychoanalysis-encyclopedia/unpleasure', 'lots', 'suspicious', 'hoax.cierekim', 'ddduu', 'nneiln', 'eastern', 'zone', 'callanecc', 'nmr', 'potto', 'hole', 'harbor', 'feelings', 'guilty', 'promise', 'trolls', 'hugo', 'chavez', 'nastiness', 'possessive', 'revisions', 'proceeded', 'foul', 'unwanted', 'unsolicited', 'objected', 'profanity', 'nwhile', 'respectfully', 'exercise', 'one-sided', 'forgetting', 'melbourne', 'thereby', 'validating', 'quick', 'geeks', 'ditch', 'processes', 'shes', 'impossible', 'nationality', 'volunteer', 'useless', 'propagandas', 'http://en.wikipedia.org/w/index.php?title=post-it_note=82219445=82217351', '<-', 'inform', 'shyamalan', 'interfere', 'ideology', 'ich', 'beuge', 'zu', 'ihnen', 'meinen', 'fuhrer', 'formating', '1777mev', 'c2', 'orders', 'magnitude', '90.179', '235.249', 'unthinking', 'urchin', 'standing', 'ovation', 'tweaks', 'beforehand', 'strikes', 'online', 'retitling', 'arguing', 'supplant', 'politic', 'reposting', 'tbhotch', 'jobless', 'teachers', 'tossing', 'reality', 'flame', 'demographics', 'pissing', 'save', 'throwing', 'vpn', 'spoof', ';\\\\', 'linking', 'gladly', 'roughly', '75', 'fridgemagnet', 'responsibility', 'genius', 'index', 'confirm', 'cepos', 'disconnected', 'etymology', 'managers', 'follows', 'fms', 'unorthodox', 'newwwwwww', 'dummy', 'nnich', 'attempting', 'espouse', 'heavens', 'hard-working', 'totally', 'accusation', 'quoted', 'long-long', 'zionism', 'critique', 'corbett', \"molly's\", 'clarification', 'twenty-four', 'resubmit', 'subst', 'submit', 'pdf', 'guide', 'surat', 'thani', 'ie', 'pertains', 'silk', 'weavers', 'bunga', 'mas', 'suzerainty', 'discusses', 'shameful', 'advert', 'joining', 'wiktionary', 'revival', 'mode', 'wikt', 'ríomhleathanach', '❤', 'groupd', 'bullies', 'chasing', 'iremember', 'gangsterism', 'ov', 'fabricating', 'october', 'unable', 'argumentation', 'adopted', 'arrogant', 'luckily', 'waste', 'strange', 'previously', 'enganged', 'despotic', 'malignant', 'npathetic', 'shithead', 'neat', 'arseface', 'mutherlicker', '137.240', '136.80', 'forst', 'corrupt', 'thiefs', 'san', 'ndont', ';)', 'kobe', 'bryant', 'u200e', 'jason', 'kidd', 'mena', 'bullying', 'cam', '48', 'eding', 'removes', 'indiviate', 'nlittle', 'bulyingf', 'enforcer', 'mckenna', 'leary', 'gordon', 'wasson', 'shamanic', 'ayuhasca', 'iboga', 'shamnic', 'drumming', 'dancing', 'protestent', 'shaker', 'whirling', 'dervishes', 'phenomena', 'meaningfull', 'symptomatic', 'diagnosis', 'aproach', 'agnostic', 'aproaches', 'validity', 'curios', 'elsewhere', 'chosen', 'mighht', 'sympathetique', 'nchildish', 'presently', 'stays', 'draft', 'trashed', 'nive', 'clar', '#irsentience', 'removasl', 'arrived', 'operation', 'grammer', 'punctuation', 'editting', 'stlye', 'sum', 'thoughtlessly', 'youve', 'redirected', 'diligently', 'additional', 'religios', 'anthropological', 'socialogical', 'medical', 'chemistry', 'botany', 'views', 'hurdles', 'hoops', 'honour', 'nclairsentience', 'evolved', 'wars', 'stupidly', 'brawl', 'ive', 'clairsentient', 'wasnt', 'decades', 'articulate', 'rational', 'vast', 'niggers', 'nniggers', '69.233', '92.38', 'turd', 'toilet', 'immediently', 'pedo', 'ntry', \"eppy's\", 'tradition', 'nbtw', 'header', '19:17', 'intro', 'headings', 'sheeple', 'meant', 'affiliations', 'rex', 'euro', 'massacred', 'civilians', 'specifies', 'constitutes', 'boilerplate', 'templates', 'insure', 'compliance', 'blank', 'specified', 'ndb', 'bastards', 'currently', 'laughing', 'stock', 'punchline', 'joke', 'facilitates', 'uninterested', 'potential', \"wouldn't\", 'harms', 'substantial', 'insidious', 'virus', 'genuine', 'swear-filled', 'diatribe', 'antagonizing', 'genuinely', 'begged', 'taunted', 'harm', 'lamellae', 'nlamellae', 'cf', 'lamina', 'stacked', 'plates', 'gills', 'fish', 'mushrooms', 'comb-like', 'edge', \"duck's\", 'bill', 'referred', 'pectines', 'singular', 'pecten', 'murdered', 'improves', 'consolidating', 'fundamentally', 'descriptions', 'retained', 'puppets', 'demonstrated', 'cannoot', 'face', 'lift', 'slowly', 'identified', 'counties', 'mountain', 'tons', 'newspaper', 'misspellings', 'bighorn', 'sheep', 'businesses', 'transformer', 'ship', 'isolate', 'besides', 'lewis', 'county', 'trip', 'reports', 'aqu', '01rius', 'x95', 'cheeselor', 'nblocked', 'wdefcon', 'nappears', 'anglesey', 'extra', 'refs', 'photographs', 'infobox', 'renamed', 'baked', 'cake', 'icing', 'fingers', 'crossed', 'hd', 'totd', 'tip', 'active', 'noticeboard', 'miscellanious', 'village', 'pump', 'places', 'faster', '15:59', 'revisited', 'fix', 'fixing', 'missed', 'ngreat', 'renominated', 'offered', 'whilst', 'ngood', 'entitled', 'reward', 'ais', '523', 'importing', 'scripts', 'monobook.js', 'bypassing', 'cache', '12:57', 'fairly', 'impressive', 'snak', 'retrn', 'blck', 'alllllllllllllllllllllllllllllll', 'fukerssssssssssssssssssssssssssssssssssssssssssssssssssssssssssssssssssssssssssssssssssssssssssssssssssssss', 'unrepentant', 'nominator', 'cease', 'nominations', 'helen', 'krauze', 'snottywong', 'percentage', 'votes', 'results', ':d', 'gg', 'nominates', 'known', 'luck', 'moreover', 'indication', 'underlying', 'abit', 'rollback', 'button', 'twinkle', 'vandal-fighting', '12:20', 'er', 'empathize', 'likewise', 'directed', 'tossed', 'breeze', '2014', 'apologies', 'responding', 'restored', 'incarnation', 'contained', 'infrignements', 'userspace', 're-created', 'restoring', 'grammatical', 'needing', 'moving', 'pseudonym', '09:38', 'suppression', 'houses', '1539', 'insistence', 'eccentric', 'emphasized', 'assertions', 'engaging', 'activities', 'persistence', 'organization', 'overwhelm', 'generate', 'widespread', 'inaccurate', 'libelous', 'nfrom', 'passages', 'viewpoint', 'continually', 'furries', 'improvement', 'longstanding', 'redirects', 'orangemarlin', 'disgusting', 'cities', 'insists', 'keeping', 'boston', 'center', 'bastrards', 'neogotiate', 'favour', 'javits', 'narthashastra', 'brad', 'thor', 'uncommon', 'recipes', 'poisons', 'bio-warfare', 'chemical', 'warfare', 'gleaned', '98.214', '81.82', '700', 'shushing', 'cow', 'dismiss', 'uppercase', 'letter', 'imbecile', 'specialist', 'specifically', 'sneering', 'transphobic', 'sarcasm', 'humour', 'febuary', '#084080', '#000000', 'rangeetsen', 'clicking', 'fill', 'facilitate', 'tutorial', 'verifiability', 'manual', 'three-revert', 'copyrights', 'cellpadding', 'cellspacing', '#000', 'resolving', 'disputes', 'etiquette', 'mangojuice', 'coats', 'absurd', 'subsitute', 'bug', 'systematic', 'territroy', 'moroccan', 'administration', 'administrates', 'polisario', 'exile', 'wanting', 'democratic', 'fervent', 'militant', 'subtitute', 'ín', 'editwarring', 'differently', 'costs', 'indefinite', 'unfortunately', 'exhausting', 'regards', 'neutrally', 'coloured', 'minded', 'sto', 'th', 'eoriginal', 'noble', 'aims', 'adrift', 'pettyness', 'correction', 'godliness', 'frequent', 'ad', 'stripmalls', 'nconstant', 'ingestion', 'burgers', 'fries', 'inconsitency', 'knickers', 'erase', 'fascism', 'fitting', \"hitler's\", 'germany', \"stalin's\", 'wide', 'nevertheless', 'subtract', 'modify', 'conviction', 'eductaion', 'progressive', 'regressive', 'nunder', 'wikipediapoliciy', 'harrasment', 'reasonable', 'observer', 'adversely', 'affecting', 'intimidating', 'unpleasant', 'discourage', 'implied', 'continued', 'showed', 'unflattering', '202.124', '135.206', 'http://www.wwfindia.org/about_wwf/what_we_do/freshwater_wetlands/our_work/ramsar_sites/harike_wetlands_.cfm', 'http://www.birding.in/birdingsites/harike_lake.htm', 'http://www.gisdevelopment.net/aars/acrs/1997/ts7/ts7008.asp', 'brilliant', 'http://www.punjabheritage.org/architectural-heritage/local-enthusiasm-but-official-neglect-for-anglo-sikh-war-monuments2704.html', 'infoboxes', 'consistency', \"religion's\", 'impression', 'irreligion', 'rejection', \"anupam's\", 'discourse', 'warrant', 'remaining', 'thermonuclear', 'nuclear', 'greater', 'graceful', 'slick', 'ungraceful', '86.131', '154.230', 'mexia', 'prounounced', 'mejilla', 'cheek', 'þ', '¡', 'æ', 'assed', 'suckin', 'drug', 'addicted', 'sniffin', 'megalomaniacs', 'bent', 'stuffed', 'crack', 'losers', 'fewer', 'od', 'moderators', 'hahahaha']\n"
          ],
          "name": "stdout"
        }
      ]
    },
    {
      "cell_type": "code",
      "metadata": {
        "collapsed": true,
        "jupyter": {
          "outputs_hidden": true
        },
        "id": "3VdzKR7shTp-",
        "colab": {
          "base_uri": "https://localhost:8080/"
        },
        "outputId": "25ec6317-b6a8-4709-d6ff-e082d4b1db67"
      },
      "source": [
        "def text_to_bow(text):\n",
        "    \"\"\" convert text string to an array of token counts. Use bow_vocabulary. \"\"\"\n",
        "    # <YOUR CODE>\n",
        "    text = preprocess(str(text))\n",
        "    split_it = text.split()    \n",
        "    array = list()\n",
        "    counter_obj = Counter(split_it)\n",
        "    bow_vocabulary = dict(counter_obj.most_common(n = k))\n",
        "\n",
        "    text, count = bow_vocabulary.keys(), bow_vocabulary.values()\n",
        "    \n",
        "    array = np.array(list(count), 'float32').flatten()\n",
        "    text = list(bow_vocabulary)\n",
        "    return array\n",
        "\n",
        "text = \"\"\"Life changes fast. Life changes in the instant. You sit down to dinner and life as you know it ends. The question of self-pity.\"\"\"\n",
        "text_to_bow(text)"
      ],
      "execution_count": 9,
      "outputs": [
        {
          "output_type": "execute_result",
          "data": {
            "text/plain": [
              "array([4., 3., 2., 2., 2., 1., 1., 1., 1., 1., 1., 1., 1., 1., 1., 1., 1.,\n",
              "       1., 1., 1.], dtype=float32)"
            ]
          },
          "metadata": {
            "tags": []
          },
          "execution_count": 9
        }
      ]
    },
    {
      "cell_type": "code",
      "metadata": {
        "colab": {
          "base_uri": "https://localhost:8080/"
        },
        "id": "HfjtEJS7_ESg",
        "outputId": "ca1fd196-4cd8-4b51-ea16-4784834d7c97"
      },
      "source": [
        "def text_to_bow(text):\n",
        "    \"\"\" convert text string to an array of token counts. Use bow_vocabulary. \"\"\"\n",
        "    # <YOUR CODE>\n",
        "\n",
        "    text = preprocess(str(text))\n",
        "    split_it = text.split()    \n",
        "    array = np.zeros(len(bow_vocabulary))\n",
        "\n",
        "    # print(bow_vocabulary.keys)\n",
        "    # text, count = bow_vocabulary.keys(), bow_vocabulary.values()\n",
        "    for i in split_it:\n",
        "      try:\n",
        "        index = bow_vocabulary.index(i)\n",
        "        array[index] += 1\n",
        "      except ValueError:\n",
        "        pass\n",
        "      \n",
        "    array = np.array(array, 'float32')\n",
        "    return array\n",
        "\n",
        "text = \"\"\"Life changes fast. Life changes in the instant. You sit down to dinner and life as you know it ends. The question of self-pity.\"\"\"\n",
        "text_to_bow(texts_train)"
      ],
      "execution_count": 10,
      "outputs": [
        {
          "output_type": "execute_result",
          "data": {
            "text/plain": [
              "array([1.771e+03, 1.516e+03, 1.389e+03, ..., 1.000e+00, 1.000e+00,\n",
              "       1.000e+00], dtype=float32)"
            ]
          },
          "metadata": {
            "tags": []
          },
          "execution_count": 10
        }
      ]
    },
    {
      "cell_type": "code",
      "metadata": {
        "collapsed": true,
        "jupyter": {
          "outputs_hidden": true
        },
        "id": "DnGJXWTphTp_"
      },
      "source": [
        "\n",
        "# X_train_bow = np.array(list(text_to_bow(texts_train)))\n",
        "# X_train_bow = X_train_bow[X_train_bow is not None]\n",
        "# X_train_bow = np.stack(X_train_bow)\n",
        "# # X_train_bow.reshape(1, -1)\n",
        "\n",
        "# X_test_bow = np.array(list(text_to_bow(texts_test)))\n",
        "# X_test_bow = X_train_bow[X_test_bow is not None]\n",
        "# X_test_bow = np.stack(X_test_bow)\n",
        "# # X_test_bow.reshape(1, -1)\n",
        "X_train_bow = np.stack(list(map(text_to_bow, texts_train)))\n",
        "X_test_bow = np.stack(list(map(text_to_bow, texts_test)))"
      ],
      "execution_count": null,
      "outputs": []
    },
    {
      "cell_type": "code",
      "metadata": {
        "id": "AgrM0vVT1Y9Q"
      },
      "source": [
        "X_train_bow[:10]"
      ],
      "execution_count": null,
      "outputs": []
    },
    {
      "cell_type": "code",
      "metadata": {
        "collapsed": true,
        "jupyter": {
          "outputs_hidden": true
        },
        "id": "NSndOckUhTp_"
      },
      "source": [
        "k_max = len(set(' '.join(texts_train).split()))\n",
        "try:\n",
        "  assert X_train_bow.shape == (len(texts_train), min(k, k_max))\n",
        "  assert X_test_bow.shape == (len(texts_test), min(k, k_max))\n",
        "  assert np.all(X_train_bow[5:10].sum(-1) == np.array([len(s.split()) for s in  texts_train[5:10]]))\n",
        "  assert len(bow_vocabulary) <= min(k, k_max)\n",
        "  assert X_train_bow[6, bow_vocabulary.index('.')] == texts_train[6].split().count('.')\n",
        "except AssertionError:\n",
        "  print(\"assetion error\")"
      ],
      "execution_count": null,
      "outputs": []
    },
    {
      "cell_type": "markdown",
      "metadata": {
        "id": "-OpmUXKqhTp_"
      },
      "source": [
        "Machine learning stuff: fit, predict, evaluate. You know the drill."
      ]
    },
    {
      "cell_type": "code",
      "metadata": {
        "collapsed": true,
        "jupyter": {
          "outputs_hidden": true
        },
        "id": "suqY0c7jhTqA"
      },
      "source": [
        "from sklearn.linear_model import LogisticRegression\n",
        "bow_model = LogisticRegression().fit(X_train_bow, y_train)"
      ],
      "execution_count": null,
      "outputs": []
    },
    {
      "cell_type": "code",
      "metadata": {
        "id": "Y-CNzUYAhTqB"
      },
      "source": [
        "from sklearn.metrics import roc_auc_score, roc_curve\n",
        "\n",
        "for name, X, y, model in [\n",
        "    ('train', X_train_bow, y_train, bow_model),\n",
        "    ('test ', X_test_bow, y_test, bow_model)\n",
        "]:\n",
        "    proba = model.predict_proba(X)[:, 1]\n",
        "    auc = roc_auc_score(y, proba)\n",
        "    plt.plot(*roc_curve(y, proba)[:2], label='%s AUC=%.4f' % (name, auc))\n",
        "\n",
        "plt.plot([0, 1], [0, 1], '--', color='black',)\n",
        "plt.legend(fontsize='large')\n",
        "plt.grid()"
      ],
      "execution_count": null,
      "outputs": []
    },
    {
      "cell_type": "markdown",
      "metadata": {
        "id": "zpODgtLdhTqC"
      },
      "source": [
        "```\n",
        "\n",
        "```\n",
        "\n",
        "```\n",
        "\n",
        "```\n",
        "\n",
        "```\n",
        "\n",
        "```\n",
        "\n",
        "```\n",
        "\n",
        "```\n",
        "\n",
        "```\n",
        "\n",
        "```\n",
        "\n",
        "```\n",
        "\n",
        "```\n",
        "\n",
        "```\n",
        "\n",
        "```\n",
        "\n",
        "```\n",
        "\n",
        "```\n",
        "\n",
        "\n",
        "### Solving it better: word vectors\n",
        "\n",
        "Let's try another approach: instead of counting per-word frequencies, we shall map all words to pre-trained word vectors and average over them to get text features.\n",
        "\n",
        "This should give us two key advantages: (1) we now have 10^2 features instead of 10^4 and (2) our model can generalize to word that are not in training dataset.\n",
        "\n",
        "We begin with a standard approach with pre-trained word vectors. However, you may also try\n",
        "* training embeddings from scratch on relevant (unlabeled) data\n",
        "* multiplying word vectors by inverse word frequency in dataset (like tf-idf).\n",
        "* concatenating several embeddings\n",
        "    * call `gensim.downloader.info()['models'].keys()` to get a list of available models\n",
        "* clusterizing words by their word-vectors and try bag of cluster_ids\n",
        "\n",
        "__Note:__ loading pre-trained model may take a while. It's a perfect opportunity to refill your cup of tea/coffee and grab some extra cookies. Or binge-watch some tv series if you're slow on internet connection"
      ]
    },
    {
      "cell_type": "code",
      "metadata": {
        "collapsed": true,
        "jupyter": {
          "outputs_hidden": true
        },
        "id": "zxjiX13mhTqC"
      },
      "source": [
        "import gensim.downloader \n",
        "embeddings = gensim.downloader.load(\"fasttext-wiki-news-subwords-300\")\n",
        "\n",
        "# If you're low on RAM or download speed, use \"glove-wiki-gigaword-100\" instead. Ignore all further asserts."
      ],
      "execution_count": null,
      "outputs": []
    },
    {
      "cell_type": "code",
      "metadata": {
        "collapsed": true,
        "jupyter": {
          "outputs_hidden": true
        },
        "id": "PHgkiLgZhTqC"
      },
      "source": [
        "def vectorize_sum(comment):\n",
        "    \"\"\"\n",
        "    implement a function that converts preprocessed comment to a sum of token vectors\n",
        "    \"\"\"\n",
        "    embedding_dim = embeddings.wv.vectors.shape[1]\n",
        "    features = np.zeros([embedding_dim], dtype='float32')\n",
        "    \n",
        "    # <YOUR CODE>\n",
        "\n",
        "    for word in preprocess(comment).split():\n",
        "      if word in embeddings.key_to_index:\n",
        "        features += embeddings.vectors[embeddings.key_to_index[word]]\n",
        "\n",
        "    \n",
        "    return features\n",
        "\n",
        "assert np.allclose(\n",
        "    vectorize_sum(\"who cares anymore . they attack with impunity .\")[::70],\n",
        "    np.array([ 0.0108616 ,  0.0261663 ,  0.13855131, -0.18510573, -0.46380025])\n",
        ")"
      ],
      "execution_count": null,
      "outputs": []
    },
    {
      "cell_type": "code",
      "metadata": {
        "collapsed": true,
        "jupyter": {
          "outputs_hidden": true
        },
        "id": "Bzcki1-9hTqC"
      },
      "source": [
        "X_train_wv = np.stack([vectorize_sum(text) for text in texts_train])\n",
        "X_test_wv = np.stack([vectorize_sum(text) for text in texts_test])"
      ],
      "execution_count": null,
      "outputs": []
    },
    {
      "cell_type": "code",
      "metadata": {
        "id": "Mhs5dZq2hTqD"
      },
      "source": [
        "wv_model = LogisticRegression().fit(X_train_wv, y_train)\n",
        "\n",
        "for name, X, y, model in [\n",
        "    ('bow train', X_train_bow, y_train, bow_model),\n",
        "    ('bow test ', X_test_bow, y_test, bow_model),\n",
        "    ('vec train', X_train_wv, y_train, wv_model),\n",
        "    ('vec test ', X_test_wv, y_test, wv_model)\n",
        "]:\n",
        "    proba = model.predict_proba(X)[:, 1]\n",
        "    auc = roc_auc_score(y, proba)\n",
        "    plt.plot(*roc_curve(y, proba)[:2], label='%s AUC=%.4f' % (name, auc))\n",
        "\n",
        "plt.plot([0, 1], [0, 1], '--', color='black',)\n",
        "plt.legend(fontsize='large')\n",
        "plt.grid()\n",
        "\n",
        "assert roc_auc_score(y_test, wv_model.predict_proba(X_test_wv)[:, 1]) > 0.92, \"something's wrong with your features\""
      ],
      "execution_count": null,
      "outputs": []
    },
    {
      "cell_type": "markdown",
      "metadata": {
        "id": "rYdt-rz_hTqD"
      },
      "source": [
        "If everything went right, you've just managed to reduce misclassification rate by a factor of two.\n",
        "This trick is very useful when you're dealing with small datasets. However, if you have hundreds of thousands of samples, there's a whole different range of methods for that. We'll get there in the second part."
      ]
    }
  ]
}