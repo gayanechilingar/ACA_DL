{
  "nbformat": 4,
  "nbformat_minor": 0,
  "metadata": {
    "accelerator": "GPU",
    "colab": {
      "name": "Assignment3_CNNs.ipynb",
      "private_outputs": true,
      "provenance": [],
      "collapsed_sections": []
    },
    "kernelspec": {
      "display_name": "Python 3",
      "language": "python",
      "name": "python3"
    },
    "language_info": {
      "codemirror_mode": {
        "name": "ipython",
        "version": 3
      },
      "file_extension": ".py",
      "mimetype": "text/x-python",
      "name": "python",
      "nbconvert_exporter": "python",
      "pygments_lexer": "ipython3",
      "version": "3.8.3"
    }
  },
  "cells": [
    {
      "cell_type": "markdown",
      "metadata": {
        "id": "S3s0AXz53Lzj"
      },
      "source": [
        "# Warm up\n",
        "\n",
        "The code below showcases a convolutional network in Keras. It was designed to classify 100x100 rgb images into 10 classes.\n",
        "This network... quite frankly, it sucks. Can you guess what's the problem? Is there just one problem?"
      ]
    },
    {
      "cell_type": "code",
      "metadata": {
        "id": "K04CKbYz3Lzv"
      },
      "source": [
        "import keras\n",
        "import keras.layers as L\n",
        "import keras.initializers as init\n",
        "from matplotlib import pyplot\n",
        "import numpy as np\n",
        "import tensorflow as tf\n",
        "from keras.models import Sequential\n",
        "from keras.layers.normalization import BatchNormalization\n",
        "from keras.layers import Conv2D, MaxPooling2D, Flatten, Dense, Activation, Dropout\n",
        "from keras.layers.advanced_activations import LeakyReLU\n",
        "from tensorflow.keras.preprocessing.image import ImageDataGenerator"
      ],
      "execution_count": null,
      "outputs": []
    },
    {
      "cell_type": "code",
      "metadata": {
        "id": "VOWfuzHlI19w"
      },
      "source": [
        "def get_model():\n",
        "  \n",
        "  model = tf.keras.Sequential([\n",
        "    # data_augmentation,\n",
        "    L.InputLayer([28, 28, 1]),\n",
        "    L.Conv2D(filters=128, kernel_size=(2, 2), activation=\"relu\", \n",
        "                 kernel_initializer=init.RandomNormal(), padding='same'), \n",
        "    L.Conv2D(filters=256, kernel_size=(2,2), activation=\"relu\",\n",
        "                 kernel_initializer=init.RandomNormal(), padding='same'),\n",
        "    L.MaxPool2D(pool_size=(6, 6)),\n",
        "    # L.MaxPool2D(pool_size=(2, 2)),\n",
        "    L.Flatten(),\n",
        "    L.Dropout(rate=0.2),\n",
        "    L.Dense(units=128,activation=\"relu\"),\n",
        "    L.Dense(10,activation=\"softmax\")\n",
        "\n",
        "  ])\n",
        "\n",
        "  return model"
      ],
      "execution_count": null,
      "outputs": []
    },
    {
      "cell_type": "code",
      "metadata": {
        "id": "lxI3ooLf1bIx"
      },
      "source": [
        "model = get_model()\n",
        "# model.summary()"
      ],
      "execution_count": null,
      "outputs": []
    },
    {
      "cell_type": "code",
      "metadata": {
        "id": "Hh0veGDuWyk6"
      },
      "source": [
        "from keras.datasets import mnist\n",
        "\n",
        "(Xtrain, ytrain), (Xtest, ytest) = tf.keras.datasets.mnist.load_data(\n",
        "    path='mnist.npz'\n",
        ")\n",
        "Xtrain.shape"
      ],
      "execution_count": null,
      "outputs": []
    },
    {
      "cell_type": "code",
      "metadata": {
        "id": "glHxrPJOZxaY"
      },
      "source": [
        "for i in range(9):\n",
        "  pyplot.subplot(330+1+i)\n",
        "  pyplot.imshow(Xtrain[i], cmap = pyplot.get_cmap('gray'))\n",
        "pyplot.show()"
      ],
      "execution_count": null,
      "outputs": []
    },
    {
      "cell_type": "code",
      "metadata": {
        "id": "kS3SYZ2FWyXH"
      },
      "source": [
        "XtrainNorm = Xtrain.astype('float32')\n",
        "XtestNorm = Xtest.astype('float32')\n",
        "\n",
        "\n",
        "XtrainNorm = np.expand_dims(XtrainNorm/255.0, axis=3)\n",
        "XtestNorm = np.expand_dims(XtestNorm/255.0, axis=3)\n"
      ],
      "execution_count": null,
      "outputs": []
    },
    {
      "cell_type": "code",
      "metadata": {
        "id": "7TKxXafX1Ltd"
      },
      "source": [
        "epochs = 15\n",
        "batch_size=32\n",
        "optimizer = keras.optimizers.Adam(learning_rate=0.001)\n",
        "\n",
        "callback = tf.keras.callbacks.EarlyStopping(monitor='val_loss', patience=4)\n",
        "model.compile(optimizer, loss='sparse_categorical_crossentropy', metrics=['accuracy'])\n",
        "history_1 = model.fit(XtrainNorm, ytrain, validation_data=(XtestNorm, ytest), callbacks=[callback], batch_size=batch_size, epochs=epochs, shuffle=True)"
      ],
      "execution_count": null,
      "outputs": []
    },
    {
      "cell_type": "code",
      "metadata": {
        "id": "RvxS-PQ3v890"
      },
      "source": [
        "import matplotlib.pyplot as plt\n",
        "plt.plot(history_1.history['accuracy'], label='accuracy')\n",
        "plt.plot(history_1.history['val_accuracy'], label = 'val_accuracy')\n",
        "plt.xlabel('Epoch')\n",
        "plt.ylabel('Accuracy')\n",
        "plt.ylim([0.988, 1])\n",
        "plt.legend(loc='lower right')\n",
        "\n",
        "test_loss, test_acc = model.evaluate(XtestNorm, ytest, verbose=1)"
      ],
      "execution_count": null,
      "outputs": []
    },
    {
      "cell_type": "markdown",
      "metadata": {
        "id": "o-HkIMC0Y4Gj"
      },
      "source": [
        ""
      ]
    },
    {
      "cell_type": "code",
      "metadata": {
        "id": "6YCPOVl01LZV"
      },
      "source": [
        ""
      ],
      "execution_count": null,
      "outputs": []
    },
    {
      "cell_type": "markdown",
      "metadata": {
        "id": "FPNyQSFP3Lzx"
      },
      "source": [
        "* [Conv2D](https://keras.io/layers/convolutional/#conv2d) - performs convolution:\n",
        "    * filters: number of output channels;\n",
        "    * kernel_size: an integer or tuple/list of 2 integers, specifying the width and height of the 2D convolution window;\n",
        "    * padding: padding=\"same\" adds zero padding to the input, so that the output has the same width and height, padding='valid' performs convolution only in locations where kernel and the input fully overlap;\n",
        "    * activation: \"relu\", \"tanh\", etc.\n",
        "    * input_shape: shape of input.\n",
        "* [MaxPooling2D](https://keras.io/layers/pooling/#maxpooling2d) - performs 2D max pooling.\n",
        "* [Flatten](https://keras.io/layers/core/#flatten) - flattens the input, does not affect the batch size.\n",
        "* [Dense](https://keras.io/layers/core/#dense) - fully-connected layer.\n",
        "    * Activation - applies an activation function.\n",
        "* [LeakyReLU](https://keras.io/layers/advanced-activations/#leakyrelu) - applies leaky relu activation.\n",
        "* [Dropout](https://keras.io/layers/core/#dropout) - applies dropout."
      ]
    },
    {
      "cell_type": "code",
      "metadata": {
        "id": "AoSMXrROk-9n"
      },
      "source": [
        ""
      ],
      "execution_count": null,
      "outputs": []
    },
    {
      "cell_type": "markdown",
      "metadata": {
        "id": "rIfXOZVV3Lzy"
      },
      "source": [
        "## Book of grudges\n",
        "* zero init for weights will cause symmetry effect\n",
        "* Too many filters for first 3x3 convolution - will lead to enormous matrix while there's just not enough relevant combinations of 3x3 images (overkill).\n",
        "* Usually the further you go, the more filters you need.\n",
        "* large filters (10x10 is generally a bad pactice, and you definitely need more than 10 of them\n",
        "* the second of 10x10 convolution gets 8x6x6 image as input, so it's technically unable to perform such convolution.\n",
        "* Softmax nonlinearity effectively makes only 1 or a few neurons from the entire layer to \"fire\", rendering 512-neuron layer almost useless. Softmax at the output layer is okay though\n",
        "* Dropout after probability prediciton is just lame. A few random classes get probability of 0, so your probabilities no longer sum to 1 and crossentropy goes -inf."
      ]
    },
    {
      "cell_type": "code",
      "metadata": {
        "id": "LsHuMxn63Lzz"
      },
      "source": [
        ""
      ],
      "execution_count": null,
      "outputs": []
    },
    {
      "cell_type": "markdown",
      "metadata": {
        "id": "QVE82che3Lzz"
      },
      "source": [
        "In this exercise you have to train a new Convolutional Neural Network from scratch for the classification of images.\n",
        "\n",
        "1. For this we will use the Keras library.\n",
        "2. The aim is to achieve 99% accuracy (on validation/test set) the MNIST dataset http://yann.lecun.com/exdb/mnist/.\n",
        "3. We have provided a basic Keras implementation of a CNN.\n",
        "4. You are allowed to do whatever you want (except copy pasting) with the network as long as it is explained in your report.\n",
        "5. Feel free to change the architecture of the network as well as parameters (e.g. learning rate, kernel sizes, ...).\n",
        "6. You can try to guess parameters manually of you want, just make sure that it performs better than 99% on the validation set.\n",
        "7. Sketch the final network architecture in your report.\n",
        "8. Make sure you train the network on the GPU, otherwise it will be too slow.\n",
        "9. Explain the plots: learning curve, accuracy wrt epoch."
      ]
    },
    {
      "cell_type": "code",
      "metadata": {
        "id": "lCidJgnQ3Lz0"
      },
      "source": [
        "from sklearn.model_selection import StratifiedKFold\n",
        "from sklearn.model_selection import KFold\n",
        "from sklearn.utils import shuffle\n",
        "from keras.datasets import mnist\n",
        "\n",
        "\n",
        "n_folds = 5\n",
        "(train_images, train_labels), (test_images, test_labels) =  tf.keras.datasets.mnist.load_data(\n",
        "    path='mnist.npz'\n",
        ")\n",
        "\n",
        "X = np.concatenate((train_images, test_images), axis = 0)\n",
        "y = np.concatenate((train_labels, test_labels))\n",
        "print(X.shape, y.shape)\n",
        "X = X.astype('float32')\n",
        "X, y = shuffle(X, y)\n",
        "\n",
        "from sklearn.preprocessing import OneHotEncoder\n",
        "\n",
        "enc = OneHotEncoder()\n",
        "y = enc.fit_transform(y.reshape(-1, 1)).todense()\n",
        "print(y.shape)\n",
        "\n",
        "X = X/255\n",
        "print(X.shape)\n",
        "\n",
        "\n",
        "X = np.expand_dims(X, axis=3)\n",
        "\n",
        "\n",
        "epochs = 10\n",
        "batch_size=32\n",
        "\n",
        "model = get_model()\n",
        "callback = tf.keras.callbacks.EarlyStopping(monitor='val_loss', patience=4)\n",
        "optimizer = keras.optimizers.Adam(learning_rate=0.001)\n",
        "model.compile(optimizer, loss='categorical_crossentropy', metrics=['accuracy'])\n",
        "\n",
        "kfold = KFold(n_splits=n_folds,random_state=0,shuffle=False)\n",
        "sfolder = StratifiedKFold(n_splits=n_folds,random_state=0)\n",
        "i =1\n",
        "for train, test in kfold.split(X,y):\n",
        "    \n",
        "    model.fit(X[train],y[train], validation_data=(X[test],y[test]), callbacks=[callback], batch_size=batch_size, epochs=epochs)\n",
        "    print('k-fold cross validation: %s | test: %s' % (i, test))\n",
        "    i = i+1\n",
        "print(\"StratifiedKFold done\")\n"
      ],
      "execution_count": null,
      "outputs": []
    },
    {
      "cell_type": "markdown",
      "metadata": {
        "id": "2_EcdWIr40PQ"
      },
      "source": [
        "**I tried to build a network as small as possible, with few parameters and working fast. I think a 99% result on validation data is not a good result, beacouse neural network are very easy to overfit. That's why I used cross validation to see the real result.We need to use test data to avoid overfitting.**"
      ]
    },
    {
      "cell_type": "markdown",
      "metadata": {
        "id": "syUDqOpv3Lz0"
      },
      "source": [
        "# Going bigger"
      ]
    },
    {
      "cell_type": "markdown",
      "metadata": {
        "id": "zSaXDtdb3Lz1"
      },
      "source": [
        "* Use `tf.keras.datasets.cifar10.load_data()` to get the data\n",
        "* split to 70 - 30 train / val using `train_test_split`\n",
        "* normalize the input like $x_{\\text{norm}} = \\frac{x}{255} - 0.5$\n",
        "* We need to convert class labels to one-hot encoded vectors. Use `keras.utils.to_categorical`."
      ]
    },
    {
      "cell_type": "code",
      "metadata": {
        "id": "kJDZc8iA3Lz2"
      },
      "source": [
        "# normalize inputs\n",
        "# convert class labels to one-hot encoded, should have shape (?, NUM_CLASSES)\n",
        "import tensorflow\n",
        "import keras\n",
        "\n",
        "(Xtrain, ytrain), (Xtest, ytest) = tansorflow.keras.datasets.cifar10.load_data()\n",
        "# y_train = ### YOUR CODE HERE\n",
        "# y_test = ### YOUR CODE HERE\n",
        "\n",
        "# x_val = ### YOUR CODE HERE\n",
        "# x_val = ### YOUR CODE HERE\n",
        "\n",
        "# y_test = ### YOUR CODE HERE\n",
        "# y_test = ### YOUR CODE HERE"
      ],
      "execution_count": null,
      "outputs": []
    },
    {
      "cell_type": "code",
      "metadata": {
        "id": "x3U4pVGV3Lz3"
      },
      "source": [
        "Xtrain, ytrain"
      ],
      "execution_count": null,
      "outputs": []
    },
    {
      "cell_type": "code",
      "metadata": {
        "id": "ZFt-f7XB3hHo"
      },
      "source": [
        ""
      ],
      "execution_count": null,
      "outputs": []
    }
  ]
}