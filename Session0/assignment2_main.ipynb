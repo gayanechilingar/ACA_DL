{
  "nbformat": 4,
  "nbformat_minor": 0,
  "metadata": {
    "accelerator": "GPU",
    "colab": {
      "name": "assignment2_main.ipynb",
      "provenance": [],
      "collapsed_sections": []
    },
    "kernelspec": {
      "display_name": "Python 3",
      "language": "python",
      "name": "python3"
    },
    "language_info": {
      "codemirror_mode": {
        "name": "ipython",
        "version": 3
      },
      "file_extension": ".py",
      "mimetype": "text/x-python",
      "name": "python",
      "nbconvert_exporter": "python",
      "pygments_lexer": "ipython3",
      "version": "3.8.3"
    }
  },
  "cells": [
    {
      "cell_type": "markdown",
      "metadata": {
        "id": "4lAWbkPPv3CJ"
      },
      "source": [
        "# Basic Artificial Neural Networks"
      ]
    },
    {
      "cell_type": "markdown",
      "metadata": {
        "id": "GdSwwU9ev3CN"
      },
      "source": [
        "The goal of this homework is simple, yet an actual implementation may take some time :). We are going to write an Artificial Neural Network (almost) from scratch. The software design of was heavily inspired by [Torch](http://torch.ch) which was the most convenient neural network environment when the work involves defining new layers some time ago. "
      ]
    },
    {
      "cell_type": "markdown",
      "metadata": {
        "id": "cS_YQujpv3CP"
      },
      "source": [
        "This homework requires sending **\"multiple** files, please do not forget to include all the files when submit. The list of files:\n",
        "- This notebook\n",
        "- assignment1_modules.ipynb\n",
        "- assignment0_differentiation.ipynb"
      ]
    },
    {
      "cell_type": "code",
      "metadata": {
        "id": "2h02zTf3v3CQ"
      },
      "source": [
        "from time import time, sleep\n",
        "import numpy as np\n",
        "import matplotlib.pyplot as plt\n",
        "from IPython import display\n",
        "import matplotlib\n",
        "\n",
        "%matplotlib inline\n",
        "\n",
        "matplotlib.style.use('ggplot')"
      ],
      "execution_count": null,
      "outputs": []
    },
    {
      "cell_type": "markdown",
      "metadata": {
        "id": "-p6vBxV6v3CR"
      },
      "source": [
        "# Framework"
      ]
    },
    {
      "cell_type": "markdown",
      "metadata": {
        "id": "vrCLGiYGv3CR"
      },
      "source": [
        "Implement everything in `Modules.ipynb`. Read all the comments thoughtfully to ease the pain. Please try not to change the prototypes.\n",
        "\n",
        "Do not forget, that each module should return AND store `output` and `gradInput`.\n",
        "\n",
        "The typical assumption is that `module.backward` is always executed after `module.forward`,\n",
        "so `output` is stored, this would be useful for `SoftMax`. "
      ]
    },
    {
      "cell_type": "code",
      "metadata": {
        "id": "XXUhlNpRv3CS"
      },
      "source": [
        "\"\"\"\n",
        "    --------------------------------------\n",
        "    -- Tech note\n",
        "    --------------------------------------\n",
        "    Inspired by torch I would use\n",
        "    \n",
        "    np.multiply, np.add, np.divide, np.subtract instead of *,+,/,-\n",
        "    for better memory handling\n",
        "        \n",
        "    Suppose you allocated a variable    \n",
        "        \n",
        "        a = np.zeros(...)\n",
        "    \n",
        "    So, instead of\n",
        "    \n",
        "        a = b + c  # will be reallocated, GC needed to free\n",
        "    \n",
        "    I would go for: \n",
        "    \n",
        "        np.add(b,c,out = a) # puts result in `a`\n",
        "    \n",
        "    But it is completely up to you.\n",
        "\"\"\"\n",
        "%run assignment1_modules.ipynb"
      ],
      "execution_count": null,
      "outputs": []
    },
    {
      "cell_type": "markdown",
      "metadata": {
        "id": "Vbkg70i5v3CT"
      },
      "source": [
        "Optimizer is implemented for you. "
      ]
    },
    {
      "cell_type": "code",
      "metadata": {
        "id": "w9neAvVbv3CU"
      },
      "source": [
        "def sgd_momentum(x, dx, config, state):\n",
        "    \"\"\"\n",
        "        This is a very ugly implementation of sgd with momentum \n",
        "        just to show an example how to store old grad in state.\n",
        "        \n",
        "        config:\n",
        "            - momentum\n",
        "            - learning_rate\n",
        "        state:\n",
        "            - old_grad\n",
        "    \"\"\"\n",
        "    \n",
        "    # x and dx have complex structure, old dx will be stored in a simpler one\n",
        "    state.setdefault('old_grad', {})\n",
        "    \n",
        "    i = 0 \n",
        "    for cur_layer_x, cur_layer_dx in zip(x,dx): \n",
        "        for cur_x, cur_dx in zip(cur_layer_x,cur_layer_dx):\n",
        "            \n",
        "            cur_old_grad = state['old_grad'].setdefault(i, np.zeros_like(cur_dx))\n",
        "            \n",
        "            cur_old_grad = config['momentum'] * cur_old_grad + config['learning_rate'] * cur_dx\n",
        "            \n",
        "            if cur_old_grad.shape[0] == 1:\n",
        "                cur_x = cur_x.reshape(cur_old_grad.shape)\n",
        "            \n",
        "            np.add(cur_x, -cur_old_grad, out=cur_x)\n",
        "            i += 1     "
      ],
      "execution_count": null,
      "outputs": []
    },
    {
      "cell_type": "markdown",
      "metadata": {
        "id": "cUPYzbFsv3CV"
      },
      "source": [
        "# Toy example"
      ]
    },
    {
      "cell_type": "markdown",
      "metadata": {
        "id": "sgpXfJWav3CW"
      },
      "source": [
        "Use this example to debug your code, start with logistic regression and then test other layers. You do not need to change anything here. This code is provided for you to test the layers. Also it is easy to use this code in MNIST task."
      ]
    },
    {
      "cell_type": "code",
      "metadata": {
        "colab": {
          "base_uri": "https://localhost:8080/",
          "height": 284
        },
        "id": "_TaWxQt1v3CW",
        "outputId": "beb2a568-b950-457b-c6cb-affef5dcdf2f"
      },
      "source": [
        "# Generate some data\n",
        "N = 500\n",
        "\n",
        "X1 = np.random.randn(N,2) + np.array([2,2])\n",
        "X2 = np.random.randn(N,2) + np.array([-2,-2])\n",
        "\n",
        "Y = np.concatenate([np.ones(N), np.zeros(N)])[:,None]\n",
        "Y = np.hstack([Y, 1 - Y])\n",
        "\n",
        "X = np.vstack([X1, X2])\n",
        "plt.scatter(X[:,0], X[:,1], c=Y[:,0], edgecolors='none')"
      ],
      "execution_count": null,
      "outputs": [
        {
          "output_type": "execute_result",
          "data": {
            "text/plain": [
              "<matplotlib.collections.PathCollection at 0x7f9da9e5b6d0>"
            ]
          },
          "metadata": {
            "tags": []
          },
          "execution_count": 162
        },
        {
          "output_type": "display_data",
          "data": {
            "image/png": "[encoded data removed]",
            "text/plain": [
              "<Figure size 432x288 with 1 Axes>"
            ]
          },
          "metadata": {
            "tags": []
          }
        }
      ]
    },
    {
      "cell_type": "code",
      "metadata": {
        "id": "pZb-S6YPv3CZ",
        "colab": {
          "base_uri": "https://localhost:8080/",
          "height": 284
        },
        "outputId": "966d454d-6139-4f25-bdfe-d3f79f4c2fed"
      },
      "source": [
        "N=100\n",
        "\n",
        "X1 = np.random.randn(N,2) + np.array([2,2])\n",
        "X2 = np.random.randn(N,2) + np.array([-2,-2])\n",
        "\n",
        "Y_test = np.concatenate([np.ones(N), np.zeros(N)])[:,None]\n",
        "Y_test = np.hstack([Y_test, 1 - Y_test])\n",
        "\n",
        "X_test = np.vstack([X1, X2])\n",
        "plt.scatter(X_test[:,0], X_test[:,1], c=Y_test[:,0], edgecolors='none')"
      ],
      "execution_count": null,
      "outputs": [
        {
          "output_type": "execute_result",
          "data": {
            "text/plain": [
              "<matplotlib.collections.PathCollection at 0x7f9db66b6890>"
            ]
          },
          "metadata": {
            "tags": []
          },
          "execution_count": 163
        },
        {
          "output_type": "display_data",
          "data": {
            "image/png": "[encoded data removed]",
            "text/plain": [
              "<Figure size 432x288 with 1 Axes>"
            ]
          },
          "metadata": {
            "tags": []
          }
        }
      ]
    },
    {
      "cell_type": "markdown",
      "metadata": {
        "id": "s4H0kIDQv3Ca"
      },
      "source": [
        "Define a **logistic regression** for debugging. "
      ]
    },
    {
      "cell_type": "code",
      "metadata": {
        "id": "e6va18Q9v3Cb",
        "colab": {
          "base_uri": "https://localhost:8080/"
        },
        "outputId": "1c5bfebd-1d66-497d-8779-89e314d2d594"
      },
      "source": [
        "criterion = ClassNLLCriterion()\n",
        "\n",
        "# Test something like that then \n",
        "\n",
        "net = Sequential()\n",
        "net.add(Linear(2, 16))\n",
        "# net.add(ReLU())\n",
        "# net.add(BatchMeanSubtraction())\n",
        "\n",
        "# net.add(Linear(16, 32))\n",
        "# net.add(ReLU())\n",
        "# net.add(Linear(32, 16))\n",
        "net.add(ReLU())\n",
        "net.add(Linear(16, 2))\n",
        "net.add(SoftMax())\n",
        "\n",
        "print(net)"
      ],
      "execution_count": null,
      "outputs": [
        {
          "output_type": "stream",
          "text": [
            "Linear 2 -> 16\n",
            "ReLU\n",
            "Linear 16 -> 2\n",
            "SoftMax\n",
            "\n"
          ],
          "name": "stdout"
        }
      ]
    },
    {
      "cell_type": "markdown",
      "metadata": {
        "id": "pNXc51cev3Cb"
      },
      "source": [
        "Start with batch_size = 1000 to make sure every step lowers the loss, then try stochastic version."
      ]
    },
    {
      "cell_type": "code",
      "metadata": {
        "id": "nEH8thuIv3Cc"
      },
      "source": [
        ""
      ],
      "execution_count": null,
      "outputs": []
    },
    {
      "cell_type": "code",
      "metadata": {
        "id": "ZhDMmC3zv3Cc"
      },
      "source": [
        ""
      ],
      "execution_count": null,
      "outputs": []
    },
    {
      "cell_type": "code",
      "metadata": {
        "id": "EHkaHoGxv3Cc"
      },
      "source": [
        "# batch generator\n",
        "def get_batches(X, Y, batch_size):\n",
        "    n_samples = X.shape[0]\n",
        "        \n",
        "    # Shuffle at the start of epoch\n",
        "    indices = np.arange(n_samples)\n",
        "    np.random.shuffle(indices)\n",
        "    \n",
        "    for start in range(0, n_samples, batch_size):\n",
        "        end = min(start + batch_size, n_samples)\n",
        "        \n",
        "        batch_idx = indices[start:end]\n",
        "    \n",
        "        yield X[batch_idx], Y[batch_idx]"
      ],
      "execution_count": null,
      "outputs": []
    },
    {
      "cell_type": "markdown",
      "metadata": {
        "id": "WJll1YWfv3Cd"
      },
      "source": [
        "### Train"
      ]
    },
    {
      "cell_type": "markdown",
      "metadata": {
        "id": "QoVRFkGkv3Cd"
      },
      "source": [
        "Basic training loop. Examine it."
      ]
    },
    {
      "cell_type": "code",
      "metadata": {
        "id": "IgPb8tCIv3Cd",
        "colab": {
          "base_uri": "https://localhost:8080/",
          "height": 427
        },
        "outputId": "b1d30bb5-6212-4aa5-932d-8791946143f6"
      },
      "source": [
        "def train(X,Y, net, n_epoch=5, batch_size = 32, optimizer_config = {'learning_rate' :0.01, 'momentum': 0.1}, optimizer_state = {}):\n",
        "    loss_history = []\n",
        "\n",
        "    for i in range(n_epoch):\n",
        "        for x_batch, y_batch in get_batches(X, Y, batch_size):\n",
        "            net.zeroGradParameters()\n",
        "        \n",
        "            # Forward\n",
        "            predictions = net.forward(x_batch)\n",
        "            loss = criterion.forward(predictions, y_batch)\n",
        "    \n",
        "            # Backward\n",
        "            dp = criterion.backward(predictions, y_batch)\n",
        "            net.backward(x_batch, dp)\n",
        "        \n",
        "        # Update weights\n",
        "            sgd_momentum(net.getParameters(), \n",
        "                     net.getGradParameters(), \n",
        "                     optimizer_config,\n",
        "                     optimizer_state)      \n",
        "        \n",
        "            loss_history.append(loss)\n",
        "\n",
        "        # Visualize\n",
        "        display.clear_output(wait=True)\n",
        "        plt.figure(figsize=(8, 6))\n",
        "        \n",
        "        plt.title('Training loss')\n",
        "        plt.xlabel('#iteration')\n",
        "        plt.ylabel('loss')\n",
        "        plt.plot(loss_history, 'b')\n",
        "        plt.show()\n",
        "    \n",
        "        print('Current loss: %f' % loss)    \n",
        "train(X, Y, net)"
      ],
      "execution_count": null,
      "outputs": [
        {
          "output_type": "display_data",
          "data": {
            "image/png": "[encoded data removed]",
            "text/plain": [
              "<Figure size 576x432 with 1 Axes>"
            ]
          },
          "metadata": {
            "tags": []
          }
        },
        {
          "output_type": "stream",
          "text": [
            "Current loss: 0.056634\n"
          ],
          "name": "stdout"
        }
      ]
    },
    {
      "cell_type": "code",
      "metadata": {
        "id": "FUqHk2QKv3Ce",
        "colab": {
          "base_uri": "https://localhost:8080/"
        },
        "outputId": "ede1a6fd-ddd5-4c73-dcd3-a7bcb125952c"
      },
      "source": [
        "\n",
        "from sklearn.metrics import accuracy_score , f1_score\n",
        "\n",
        "y_pred = net.updateOutput(X_test)\n",
        "y_pred = y_pred.argmax(axis=1)\n",
        "Y = Y.argmax(axis=1)\n",
        "Y_test = Y_test.argmax(axis=1)\n",
        "f1_score(Y_test, y_pred), accuracy_score(Y_test, y_pred)\n",
        "\n"
      ],
      "execution_count": null,
      "outputs": [
        {
          "output_type": "execute_result",
          "data": {
            "text/plain": [
              "(1.0, 1.0)"
            ]
          },
          "metadata": {
            "tags": []
          },
          "execution_count": 167
        }
      ]
    },
    {
      "cell_type": "code",
      "metadata": {
        "id": "jXWTsXhFv3Cf"
      },
      "source": [
        "# Iptimizer params"
      ],
      "execution_count": null,
      "outputs": []
    },
    {
      "cell_type": "markdown",
      "metadata": {
        "id": "vO0LVOVsv3Cf"
      },
      "source": [
        "# Digit classification "
      ]
    },
    {
      "cell_type": "markdown",
      "metadata": {
        "id": "afZh5jwav3Cf"
      },
      "source": [
        "We are using [MNIST](http://yann.lecun.com/exdb/mnist/) as our dataset. Lets start with [cool visualization](http://scs.ryerson.ca/~aharley/vis/). The most beautiful demo is the second one, if you are not familiar with convolutions you can return to it in several lectures. "
      ]
    },
    {
      "cell_type": "code",
      "metadata": {
        "id": "2py6sdYUv3Cg",
        "colab": {
          "base_uri": "https://localhost:8080/"
        },
        "outputId": "7afdb975-6060-4be8-eeda-da9f099b0e03"
      },
      "source": [
        "from sklearn.datasets import load_digits\n",
        "from sklearn.preprocessing import OneHotEncoder\n",
        "\n",
        "\n",
        "digits = load_digits()\n",
        "X, y = digits[\"data\"], digits[\"target\"]\n",
        "print(X.shape, y.shape, set(y))\n",
        "enc = OneHotEncoder()\n",
        "y = enc.fit_transform(y.reshape(-1, 1)).todense()\n",
        "y = np.array(y)\n",
        "\n",
        "X_train, X_test, y_train, y_test = X[:1438]/255, X[1438:]/255, y[:1438], y[1438:]\n"
      ],
      "execution_count": null,
      "outputs": [
        {
          "output_type": "stream",
          "text": [
            "(1797, 64) (1797,) {0, 1, 2, 3, 4, 5, 6, 7, 8, 9}\n"
          ],
          "name": "stdout"
        }
      ]
    },
    {
      "cell_type": "code",
      "metadata": {
        "id": "T8Plcr3ev3Cg",
        "colab": {
          "base_uri": "https://localhost:8080/"
        },
        "outputId": "28d1746d-0e4a-4df3-8351-a72da9562b7f"
      },
      "source": [
        "print(X.shape, y.shape)\n",
        "print(X_train.shape, X_test.shape, y_train.shape, y_test.shape)"
      ],
      "execution_count": null,
      "outputs": [
        {
          "output_type": "stream",
          "text": [
            "(1797, 64) (1797, 10)\n",
            "(1438, 64) (359, 64) (1438, 10) (359, 10)\n"
          ],
          "name": "stdout"
        }
      ]
    },
    {
      "cell_type": "markdown",
      "metadata": {
        "id": "5Q8NKHRDv3Ch"
      },
      "source": [
        "One-hot encode the labels first."
      ]
    },
    {
      "cell_type": "code",
      "metadata": {
        "id": "7T81GHAyv3Ch"
      },
      "source": [
        ""
      ],
      "execution_count": null,
      "outputs": []
    },
    {
      "cell_type": "markdown",
      "metadata": {
        "id": "zQGZWX0ev3Ch"
      },
      "source": [
        "- **Compare** `ReLU`, `ELU`, `LeakyReLU`, `SoftPlus` activation functions. \n",
        "You would better pick the best optimizer params for each of them, but it is overkill for now. Use an architecture of your choice for the comparison.\n",
        "- **Try** inserting `BatchMeanSubtraction` between `Linear` module and activation functions.\n",
        "- Plot the losses both from activation functions comparison and `BatchMeanSubtraction` comparison on one plot. Please find a scale (log?) when the lines are distinguishable, do not forget about naming the axes, the plot should be goodlooking.\n",
        "- Hint: logloss for MNIST should be around 0.5. "
      ]
    },
    {
      "cell_type": "code",
      "metadata": {
        "id": "EQqvBWOhv3Ci",
        "colab": {
          "base_uri": "https://localhost:8080/"
        },
        "outputId": "f0e5c9ab-96d1-400c-ad2b-90e7ad4af98c"
      },
      "source": [
        "y_test"
      ],
      "execution_count": null,
      "outputs": [
        {
          "output_type": "execute_result",
          "data": {
            "text/plain": [
              "array([[0., 0., 0., ..., 0., 0., 0.],\n",
              "       [0., 0., 0., ..., 0., 0., 0.],\n",
              "       [0., 0., 0., ..., 0., 0., 0.],\n",
              "       ...,\n",
              "       [0., 0., 0., ..., 0., 1., 0.],\n",
              "       [0., 0., 0., ..., 0., 0., 1.],\n",
              "       [0., 0., 0., ..., 0., 1., 0.]])"
            ]
          },
          "metadata": {
            "tags": []
          },
          "execution_count": 21
        }
      ]
    },
    {
      "cell_type": "code",
      "metadata": {
        "id": "Wje6Xrf6v3Ci"
      },
      "source": [
        ""
      ],
      "execution_count": null,
      "outputs": []
    },
    {
      "cell_type": "code",
      "metadata": {
        "id": "3ckEa5Wiv3Cj",
        "colab": {
          "base_uri": "https://localhost:8080/"
        },
        "outputId": "f0703a5a-774f-48e1-801e-2b63d87f16ca"
      },
      "source": [
        "net = Sequential()\n",
        "net.add(Linear(64,128))\n",
        "\n",
        "net.add(ELU())\n",
        "net.add(Linear(128, 10))\n",
        "net.add(SoftMax())\n",
        "\n",
        "print(net)"
      ],
      "execution_count": null,
      "outputs": [
        {
          "output_type": "stream",
          "text": [
            "Linear 64 -> 128\n",
            "ELU\n",
            "Linear 128 -> 10\n",
            "SoftMax\n",
            "\n"
          ],
          "name": "stdout"
        }
      ]
    },
    {
      "cell_type": "code",
      "metadata": {
        "id": "PX7wmn_Iv3Cj",
        "colab": {
          "base_uri": "https://localhost:8080/",
          "height": 427
        },
        "outputId": "7bb32128-1eef-496a-d78a-a83a1bebbda2"
      },
      "source": [
        "# X_train, X_test, y_train, y_test = X[:60000]/255, X[60000:]/255, one_hot_y[:60000], one_hot_y[60000:]\n",
        "# X_train, X_test, y_train, y_test = X[:60000]/255, X[60000:]/255, y[:60000], y[60000:]\n",
        "print(y_test.shape, y_pred.shape)\n",
        "\n",
        "startELU = time()\n",
        "optimizer_config = {'learning_rate' : 0.5, 'momentum': 0.09}\n",
        "clf = train(X_train, y_train, net,batch_size = 32, optimizer_config=optimizer_config, optimizer_state={}, n_epoch =250)\n",
        "y_pred = net.updateOutput(X_test)\n",
        "criterion.updateOutput(y_pred, y_test)\n",
        "endELU = time()\n",
        "EluTime = endELU - startELU"
      ],
      "execution_count": null,
      "outputs": [
        {
          "output_type": "display_data",
          "data": {
            "image/png": "[encoded data removed]",
            "text/plain": [
              "<Figure size 576x432 with 1 Axes>"
            ]
          },
          "metadata": {
            "tags": []
          }
        },
        {
          "output_type": "stream",
          "text": [
            "Current loss: 0.036682\n"
          ],
          "name": "stdout"
        }
      ]
    },
    {
      "cell_type": "code",
      "metadata": {
        "id": "zemWq3ICv3Ck",
        "colab": {
          "base_uri": "https://localhost:8080/"
        },
        "outputId": "1308bfa4-b2bd-4de3-8a62-22658d003182"
      },
      "source": [
        "EluTime"
      ],
      "execution_count": null,
      "outputs": [
        {
          "output_type": "execute_result",
          "data": {
            "text/plain": [
              "47.522770166397095"
            ]
          },
          "metadata": {
            "tags": []
          },
          "execution_count": 24
        }
      ]
    },
    {
      "cell_type": "code",
      "metadata": {
        "colab": {
          "base_uri": "https://localhost:8080/"
        },
        "id": "mc1A4pvwS3ch",
        "outputId": "5598e8e9-0513-4d30-a795-9fb226fe5084"
      },
      "source": [
        "from sklearn.metrics import accuracy_score , f1_score, confusion_matrix\n",
        "\n",
        "\n",
        "\n",
        "\n",
        "y_pred = net.updateOutput(X_test)\n",
        "y_pred1 = y_pred.argmax(axis=1)\n",
        "# y_pred1 = enc.fit_transform(y_pred1.reshape(-1, 1)).todense()\n",
        "# y_pred1 = np.array(y_pred1)\n",
        "y_test1 = y_test.argmax(axis=1)\n",
        "print(accuracy_score(y_test1, y_pred1))\n",
        "print(f1_score(y_test1, y_pred1, average='macro'))\n",
        "print(confusion_matrix(y_test1, y_pred1))\n",
        "\n",
        "print(y_test1.shape, y_pred1.shape)"
      ],
      "execution_count": null,
      "outputs": [
        {
          "output_type": "stream",
          "text": [
            "0.8662952646239555\n",
            "0.8646567937572291\n",
            "[[33  0  0  0  1  0  1  0  0  0]\n",
            " [ 0 26  0  0  1  0  0  0  0  9]\n",
            " [ 0  0 34  0  0  0  0  0  0  0]\n",
            " [ 0  0  1 26  0  4  0  3  3  0]\n",
            " [ 0  0  0  0 34  0  0  0  3  0]\n",
            " [ 0  0  0  0  0 37  0  0  0  0]\n",
            " [ 0  2  0  0  0  0 35  0  0  0]\n",
            " [ 0  0  0  0  1  0  0 34  1  0]\n",
            " [ 0  2  0  0  1  2  0  2 23  3]\n",
            " [ 0  0  0  2  0  3  0  2  1 29]]\n",
            "(359,) (359,)\n"
          ],
          "name": "stdout"
        }
      ]
    },
    {
      "cell_type": "code",
      "metadata": {
        "id": "2pTcHnjCS2Ld"
      },
      "source": [
        ""
      ],
      "execution_count": null,
      "outputs": []
    },
    {
      "cell_type": "code",
      "metadata": {
        "id": "ZPIMXk1mv3Ck",
        "colab": {
          "base_uri": "https://localhost:8080/"
        },
        "outputId": "12440396-7c79-43da-8588-1ffbfeb05d65"
      },
      "source": [
        "net = Sequential()\n",
        "net.add(Linear(64,128))\n",
        "\n",
        "net.add(ReLU())\n",
        "net.add(Linear(128, 10))\n",
        "net.add(SoftMax())\n",
        "\n",
        "print(net)"
      ],
      "execution_count": null,
      "outputs": [
        {
          "output_type": "stream",
          "text": [
            "Linear 64 -> 128\n",
            "ReLU\n",
            "Linear 128 -> 10\n",
            "SoftMax\n",
            "\n"
          ],
          "name": "stdout"
        }
      ]
    },
    {
      "cell_type": "code",
      "metadata": {
        "id": "UG_R6Yvdv3Cl",
        "colab": {
          "base_uri": "https://localhost:8080/",
          "height": 427
        },
        "outputId": "15be2f10-b997-495f-95e1-5e7f046faa98"
      },
      "source": [
        "startReLU = time()\n",
        "optimizer_config = {'learning_rate' : 0.5, 'momentum': 0.15}\n",
        "clf = train(X_train, y_train, net,batch_size = 32, optimizer_config=optimizer_config, optimizer_state={}, n_epoch =250)\n",
        "y_pred = net.updateOutput(X_test)\n",
        "criterion.updateOutput(y_pred, y_test)\n",
        "endReLU = time()\n",
        "ReluTime = endReLU - startReLU"
      ],
      "execution_count": null,
      "outputs": [
        {
          "output_type": "display_data",
          "data": {
            "image/png": "[encoded data removed]",
            "text/plain": [
              "<Figure size 576x432 with 1 Axes>"
            ]
          },
          "metadata": {
            "tags": []
          }
        },
        {
          "output_type": "stream",
          "text": [
            "Current loss: 0.028697\n"
          ],
          "name": "stdout"
        }
      ]
    },
    {
      "cell_type": "code",
      "metadata": {
        "colab": {
          "base_uri": "https://localhost:8080/"
        },
        "id": "U6lUH74xXWnt",
        "outputId": "f1256e76-0e6a-4b68-c29d-1a5867c9edc7"
      },
      "source": [
        "ReluTime"
      ],
      "execution_count": null,
      "outputs": [
        {
          "output_type": "execute_result",
          "data": {
            "text/plain": [
              "43.767728328704834"
            ]
          },
          "metadata": {
            "tags": []
          },
          "execution_count": 28
        }
      ]
    },
    {
      "cell_type": "code",
      "metadata": {
        "colab": {
          "base_uri": "https://localhost:8080/"
        },
        "id": "TQ6G-speS6Q9",
        "outputId": "7618b4bc-088d-4c3b-f3f8-b9303b50e43d"
      },
      "source": [
        "from sklearn.metrics import accuracy_score , f1_score, confusion_matrix\n",
        "\n",
        "\n",
        "\n",
        "\n",
        "y_pred = net.updateOutput(X_test)\n",
        "y_pred1 = y_pred.argmax(axis=1)\n",
        "# y_pred1 = enc.fit_transform(y_pred1.reshape(-1, 1)).todense()\n",
        "# y_pred1 = np.array(y_pred1)\n",
        "y_test1 = y_test.argmax(axis=1)\n",
        "print(accuracy_score(y_test1, y_pred1))\n",
        "print(f1_score(y_test1, y_pred1, average='macro'))\n",
        "print(confusion_matrix(y_test1, y_pred1))\n",
        "\n",
        "print(y_test1.shape, y_pred1.shape)"
      ],
      "execution_count": null,
      "outputs": [
        {
          "output_type": "stream",
          "text": [
            "0.8579387186629527\n",
            "0.8557530912146479\n",
            "[[32  0  0  0  1  0  2  0  0  0]\n",
            " [ 0 26  0  0  1  0  0  0  0  9]\n",
            " [ 0  0 34  0  0  0  0  0  0  0]\n",
            " [ 0  0  3 25  0  3  0  3  3  0]\n",
            " [ 0  0  0  0 34  0  0  0  3  0]\n",
            " [ 0  1  0  0  0 36  0  0  0  0]\n",
            " [ 0  2  0  0  0  0 35  0  0  0]\n",
            " [ 0  0  0  0  0  0  0 34  2  0]\n",
            " [ 0  2  0  0  1  2  0  2 23  3]\n",
            " [ 0  0  0  3  0  3  0  2  0 29]]\n",
            "(359,) (359,)\n"
          ],
          "name": "stdout"
        }
      ]
    },
    {
      "cell_type": "code",
      "metadata": {
        "colab": {
          "base_uri": "https://localhost:8080/"
        },
        "id": "aXahrfMZZB06",
        "outputId": "188a6076-1c26-4990-88f9-0d89bfaf42e6"
      },
      "source": [
        "net = Sequential()\n",
        "net.add(Linear(64,128))\n",
        "\n",
        "net.add(LeakyReLU())\n",
        "net.add(Linear(128, 10))\n",
        "net.add(SoftMax())\n",
        "\n",
        "print(net)"
      ],
      "execution_count": null,
      "outputs": [
        {
          "output_type": "stream",
          "text": [
            "Linear 64 -> 128\n",
            "LeakyReLU\n",
            "Linear 128 -> 10\n",
            "SoftMax\n",
            "\n"
          ],
          "name": "stdout"
        }
      ]
    },
    {
      "cell_type": "code",
      "metadata": {
        "colab": {
          "base_uri": "https://localhost:8080/",
          "height": 427
        },
        "id": "3nezVK94ZA2A",
        "outputId": "e4544e94-3464-4fc0-c655-bfe950197f57"
      },
      "source": [
        "startLeakyReLU = time()\n",
        "optimizer_config = {'learning_rate' : 0.3, 'momentum': 0.15}\n",
        "clf = train(X_train, y_train, net,batch_size = 32, optimizer_config=optimizer_config, optimizer_state={}, n_epoch =250)\n",
        "y_pred = net.updateOutput(X_test)\n",
        "criterion.updateOutput(y_pred, y_test)\n",
        "endLeakyReLU = time()\n",
        "LeakyReLUTime = endLeakyReLU - startLeakyReLU"
      ],
      "execution_count": null,
      "outputs": [
        {
          "output_type": "display_data",
          "data": {
            "image/png": "[encoded data removed]",
            "text/plain": [
              "<Figure size 576x432 with 1 Axes>"
            ]
          },
          "metadata": {
            "tags": []
          }
        },
        {
          "output_type": "stream",
          "text": [
            "Current loss: 0.178101\n"
          ],
          "name": "stdout"
        }
      ]
    },
    {
      "cell_type": "code",
      "metadata": {
        "colab": {
          "base_uri": "https://localhost:8080/"
        },
        "id": "WpcKL6GdZAKP",
        "outputId": "e43c7914-7ab1-4119-a41d-447330accee1"
      },
      "source": [
        "LeakyReLUTime"
      ],
      "execution_count": null,
      "outputs": [
        {
          "output_type": "execute_result",
          "data": {
            "text/plain": [
              "44.049410343170166"
            ]
          },
          "metadata": {
            "tags": []
          },
          "execution_count": 32
        }
      ]
    },
    {
      "cell_type": "code",
      "metadata": {
        "colab": {
          "base_uri": "https://localhost:8080/"
        },
        "id": "Vu-DAiXoY_bR",
        "outputId": "3dc6126b-4ecb-44cf-efa7-292922ea508b"
      },
      "source": [
        "from sklearn.metrics import accuracy_score , f1_score, confusion_matrix\n",
        "\n",
        "\n",
        "\n",
        "\n",
        "y_pred = net.updateOutput(X_test)\n",
        "y_pred1 = y_pred.argmax(axis=1)\n",
        "# y_pred1 = enc.fit_transform(y_pred1.reshape(-1, 1)).todense()\n",
        "# y_pred1 = np.array(y_pred1)\n",
        "y_test1 = y_test.argmax(axis=1)\n",
        "print(accuracy_score(y_test1, y_pred1))\n",
        "print(f1_score(y_test1, y_pred1, average='macro'))\n",
        "print(confusion_matrix(y_test1, y_pred1))\n",
        "\n",
        "print(y_test1.shape, y_pred1.shape)"
      ],
      "execution_count": null,
      "outputs": [
        {
          "output_type": "stream",
          "text": [
            "0.6183844011142061\n",
            "0.5832747355726805\n",
            "[[32  0  0  0  2  0  1  0  0  0]\n",
            " [ 0 15  0  0 11  0  0  0  0 10]\n",
            " [ 1  0 28  0  0  0  0  0  3  2]\n",
            " [ 0  0  0  5  0  0  0  7  5 20]\n",
            " [ 0  0  0  0 34  0  0  3  0  0]\n",
            " [ 2  1  0  0  6  0  0  5  3 20]\n",
            " [ 0  1  0  0  8  0 28  0  0  0]\n",
            " [ 0  0  0  0  3  0  0 32  1  0]\n",
            " [ 0  2  0  0  6  0  0  1 17  7]\n",
            " [ 0  0  0  0  0  0  0  6  0 31]]\n",
            "(359,) (359,)\n"
          ],
          "name": "stdout"
        }
      ]
    },
    {
      "cell_type": "code",
      "metadata": {
        "id": "kCNWHyjyv3Cl",
        "colab": {
          "base_uri": "https://localhost:8080/"
        },
        "outputId": "b6299b8d-1655-4d61-a6ae-ac4871074f0e"
      },
      "source": [
        "print(y_test1.shape, y_pred1.shape)"
      ],
      "execution_count": null,
      "outputs": [
        {
          "output_type": "stream",
          "text": [
            "(359,) (359,)\n"
          ],
          "name": "stdout"
        }
      ]
    },
    {
      "cell_type": "markdown",
      "metadata": {
        "id": "6e8dqQIOv3Cl"
      },
      "source": [
        "Write your personal opinion on the activation functions, think about computation times too. Does `BatchMeanSubtraction` help?"
      ]
    },
    {
      "cell_type": "markdown",
      "metadata": {
        "id": "9XqM1eNXv3Cm"
      },
      "source": [
        ""
      ]
    },
    {
      "cell_type": "markdown",
      "metadata": {
        "id": "31En1_Awv3Cm"
      },
      "source": [
        "**Finally**, use all your knowledge to build a super cool model on this dataset, do not forget to split dataset into train and validation. Use **dropout** to prevent overfitting, play with **learning rate decay**. You can use **data augmentation** such as rotations, translations to boost your score. Use your knowledge and imagination to train a model. "
      ]
    },
    {
      "cell_type": "code",
      "metadata": {
        "id": "QK0ShPXITxK_"
      },
      "source": [
        ""
      ],
      "execution_count": null,
      "outputs": []
    },
    {
      "cell_type": "markdown",
      "metadata": {
        "id": "BDHMXQTWv3Cq"
      },
      "source": [
        "Print here your accuracy. It should be around 90%."
      ]
    },
    {
      "cell_type": "code",
      "metadata": {
        "colab": {
          "base_uri": "https://localhost:8080/"
        },
        "id": "mYSq-TJQL7wC",
        "outputId": "9af0da7b-b24d-4ba3-ad50-3230692905f2"
      },
      "source": [
        "criterion = ClassNLLCriterion()\n",
        "\n",
        "net = Sequential()\n",
        "net.add(Linear(X_train.shape[1], 128))\n",
        "net.add(ELU())\n",
        "# net.add(LeakyReLU())\n",
        "# net.add(Linear( 16,32))\n",
        "# net.add(ELU())\n",
        "# net.add(Linear(32, 16))\n",
        "# net.add(LeakyReLU())\n",
        "\n",
        "\n",
        "# net.add(Linear(32, 16))\n",
        "# net.add(ReLU())\n",
        "\n",
        "# net.add(Linear(32, 64))\n",
        "# net.add(ReLU())\n",
        "# net.add(ELU())\n",
        "net.add(Linear(128, 10))\n",
        "# net.add(BatchMeanSubtraction())\n",
        "\n",
        "net.add(SoftMax())\n",
        "\n",
        "print(net)"
      ],
      "execution_count": null,
      "outputs": [
        {
          "output_type": "stream",
          "text": [
            "Linear 64 -> 128\n",
            "ELU\n",
            "Linear 128 -> 10\n",
            "SoftMax\n",
            "\n"
          ],
          "name": "stdout"
        }
      ]
    },
    {
      "cell_type": "code",
      "metadata": {
        "colab": {
          "base_uri": "https://localhost:8080/",
          "height": 427
        },
        "id": "X4mAtz-xL7hZ",
        "outputId": "be339887-7df1-40d4-f53a-13960206a77b"
      },
      "source": [
        "start = time()\n",
        "optimizer_config = {'learning_rate' : 0.7, 'momentum': 0.3}\n",
        "clf = train(X_train, y_train, net,batch_size = 32, optimizer_config=optimizer_config, optimizer_state={}, n_epoch =120)\n",
        "y_pred = net.updateOutput(X_test)\n",
        "criterion.updateOutput(y_pred, y_test)\n",
        "end = time()\n",
        "Time = end- start"
      ],
      "execution_count": null,
      "outputs": [
        {
          "output_type": "display_data",
          "data": {
            "image/png": "[encoded data removed]",
            "text/plain": [
              "<Figure size 576x432 with 1 Axes>"
            ]
          },
          "metadata": {
            "tags": []
          }
        },
        {
          "output_type": "stream",
          "text": [
            "Current loss: 0.002897\n"
          ],
          "name": "stdout"
        }
      ]
    },
    {
      "cell_type": "code",
      "metadata": {
        "id": "yP5tvpiwL7Qp"
      },
      "source": [
        ""
      ],
      "execution_count": null,
      "outputs": []
    },
    {
      "cell_type": "code",
      "metadata": {
        "colab": {
          "base_uri": "https://localhost:8080/"
        },
        "id": "w79dCY6yL7Cl",
        "outputId": "65d288f0-7fa3-447e-e7e8-4e26fb15343b"
      },
      "source": [
        "Time"
      ],
      "execution_count": null,
      "outputs": [
        {
          "output_type": "execute_result",
          "data": {
            "text/plain": [
              "25.435461282730103"
            ]
          },
          "metadata": {
            "tags": []
          },
          "execution_count": 81
        }
      ]
    },
    {
      "cell_type": "code",
      "metadata": {
        "id": "ALyXZIm3v3Cr",
        "colab": {
          "base_uri": "https://localhost:8080/"
        },
        "outputId": "dcf7cda7-ca77-4f41-a014-8fc7e1475848"
      },
      "source": [
        "from sklearn.metrics import accuracy_score , f1_score, confusion_matrix\n",
        "\n",
        "\n",
        "\n",
        "\n",
        "y_pred = net.updateOutput(X_test)\n",
        "y_pred1 = y_pred.argmax(axis=1)\n",
        "# y_pred1 = enc.fit_transform(y_pred1.reshape(-1, 1)).todense()\n",
        "# y_pred1 = np.array(y_pred1)\n",
        "y_test1 = y_test.argmax(axis=1)\n",
        "print(accuracy_score(y_test1, y_pred1))\n",
        "print(f1_score(y_test1, y_pred1, average='macro'))\n",
        "print(confusion_matrix(y_test1, y_pred1))\n",
        "\n",
        "print(y_test1.shape, y_pred1.shape)"
      ],
      "execution_count": null,
      "outputs": [
        {
          "output_type": "stream",
          "text": [
            "0.9025069637883009\n",
            "0.9018204867214475\n",
            "[[32  0  0  0  1  0  2  0  0  0]\n",
            " [ 0 28  0  1  0  0  0  0  0  7]\n",
            " [ 0  0 34  0  0  0  0  0  0  0]\n",
            " [ 0  0  2 27  0  2  0  1  5  0]\n",
            " [ 0  0  0  0 34  0  0  0  3  0]\n",
            " [ 0  0  0  0  0 37  0  0  0  0]\n",
            " [ 0  2  0  0  0  0 35  0  0  0]\n",
            " [ 0  0  0  0  1  0  0 34  1  0]\n",
            " [ 0  1  0  1  0  2  0  0 29  0]\n",
            " [ 0  0  0  0  0  2  0  0  1 34]]\n",
            "(359,) (359,)\n"
          ],
          "name": "stdout"
        }
      ]
    },
    {
      "cell_type": "markdown",
      "metadata": {
        "id": "hz0HtpqXv3Cr"
      },
      "source": [
        "**bold text**# Autoencoder (optional) "
      ]
    },
    {
      "cell_type": "markdown",
      "metadata": {
        "id": "_lgF0Ar_v3Cr"
      },
      "source": [
        "This part is **OPTIONAL**, you may not do it. It will not be scored, but it is easy and interesting."
      ]
    },
    {
      "cell_type": "markdown",
      "metadata": {
        "id": "Yv4yF_k_v3Cs"
      },
      "source": [
        "Now we are going to build a cool model, named autoencoder. The aim is simple: **encode** the data to a lower dimentional representation. Why? Well, if we can **decode** this representation back to original data with \"small\" reconstuction loss then we can store only compressed representation saving memory. But the most important thing is -- we can reuse trained autoencoder for classification. \n",
        "![](https://multithreaded.stitchfix.com/assets/images/blog/PS_NN_graphic_colors2.png)"
      ]
    },
    {
      "cell_type": "markdown",
      "metadata": {
        "id": "BJJhbHyYv3Cs"
      },
      "source": [
        "Now implement an autoencoder:\n",
        "\n",
        "Build it such that dimetionality inside autoencoder changes like that: \n",
        "\n",
        "$$784 \\text{ (data)} -> 512 -> 256 -> 128 -> 30 -> 128 -> 256 -> 512 -> 784$$\n",
        "\n",
        "Use **MSECriterion** to score the reconstruction. Use **BatchMeanNormalization** between **Linear** and **ReLU**. You may not use nonlinearity in bottleneck layer.\n",
        "\n",
        "You may train it for 9 epochs with batch size = 256, initial lr = 0.1 droping by a factor of 2 every 3 epochs. The reconstruction loss should be about 6.0 and visual quality decent already.\n",
        "Do not spend time on changing architecture, they are more or less the same. "
      ]
    },
    {
      "cell_type": "code",
      "metadata": {
        "id": "9TLDXLFMv3Ct"
      },
      "source": [
        ""
      ],
      "execution_count": null,
      "outputs": []
    },
    {
      "cell_type": "code",
      "metadata": {
        "id": "c_5la1MR3d6-"
      },
      "source": [
        "import keras\n",
        "import keras.layers as L\n",
        "import keras.initializers as init\n",
        "from matplotlib import pyplot\n",
        "import numpy as np\n",
        "import tensorflow as tf\n",
        "from keras.models import Sequential\n",
        "from keras.layers.normalization import BatchNormalization\n",
        "from keras.layers import Dense, Activation, Dropout"
      ],
      "execution_count": null,
      "outputs": []
    },
    {
      "cell_type": "code",
      "metadata": {
        "id": "kEiXr6BgzsvJ"
      },
      "source": [
        ""
      ],
      "execution_count": null,
      "outputs": []
    },
    {
      "cell_type": "code",
      "metadata": {
        "colab": {
          "base_uri": "https://localhost:8080/"
        },
        "id": "kz0jOjrlv3Cu",
        "outputId": "dc02c05c-f44b-48fb-cca8-e20b19eeed94"
      },
      "source": [
        "model = keras.models.Sequential()\n",
        "model.add(L.Dense(512, input_dim=784))\n",
        "model.add(L.Activation('relu'))\n",
        "model.add(L.Dense(256, kernel_initializer=init.RandomNormal()))\n",
        "model.add(L.Activation('relu'))\n",
        "model.add(L.Dense(128,  kernel_initializer=init.RandomNormal()))\n",
        "model.add(L.Activation('relu'))\n",
        "model.add(L.Dense(30,  kernel_initializer=init.RandomNormal()))\n",
        "model.add(L.Activation('relu'))\n",
        "model.add(L.Dense(128, kernel_initializer=init.RandomNormal()))\n",
        "model.add(L.Activation('relu'))\n",
        "model.add(L.Dense(256, kernel_initializer=init.RandomNormal()))\n",
        "model.add(L.Activation('relu'))\n",
        "model.add(L.Dense(512, kernel_initializer=init.RandomNormal()))\n",
        "model.add(L.Activation('relu'))\n",
        "model.add(L.Dropout(0.2))\n",
        "model.add(L.Dense(784, kernel_initializer=init.RandomNormal()))\n",
        "model.add(L.Activation('relu'))\n",
        "\n",
        "print(model)"
      ],
      "execution_count": null,
      "outputs": [
        {
          "output_type": "stream",
          "text": [
            "<tensorflow.python.keras.engine.sequential.Sequential object at 0x7f9e101679d0>\n"
          ],
          "name": "stdout"
        }
      ]
    },
    {
      "cell_type": "code",
      "metadata": {
        "id": "0ymls6wN4WDp"
      },
      "source": [
        "from keras.datasets import mnist\n",
        "from sklearn.datasets import fetch_openml\n",
        "from sklearn.utils import shuffle\n",
        "\n",
        "mnist = fetch_openml('mnist_784')\n",
        "x = mnist.data\n",
        "y = mnist.target\n",
        "\n",
        "X, y = shuffle(x, y)\n"
      ],
      "execution_count": null,
      "outputs": []
    },
    {
      "cell_type": "code",
      "metadata": {
        "id": "xYQR9ck04hA2"
      },
      "source": [
        "\n",
        "X_train = X[:60000]/255\n",
        "X_test = X[60000 :]/255\n",
        "y_train = y[:60000]\n",
        "y_test = y[60000 :]"
      ],
      "execution_count": null,
      "outputs": []
    },
    {
      "cell_type": "code",
      "metadata": {
        "id": "pXGtTHLL7vgC"
      },
      "source": [
        "\n",
        "X_train = np.array(X_train)\n",
        "X_test = np.array(X_test)"
      ],
      "execution_count": null,
      "outputs": []
    },
    {
      "cell_type": "code",
      "metadata": {
        "id": "XAH0O63_4oIs"
      },
      "source": [
        ""
      ],
      "execution_count": null,
      "outputs": []
    },
    {
      "cell_type": "code",
      "metadata": {
        "id": "UsCqpzDS_oha"
      },
      "source": [
        "model = keras.models.Sequential()\n",
        "model.add(L.Dense(512, input_dim=784,  kernel_initializer=init.RandomNormal()))\n",
        "model.add(L.Activation('relu'))\n",
        "model.add(L.Dense(256))\n",
        "model.add(L.Activation('relu'))\n",
        "model.add(L.Dense(128))\n",
        "model.add(L.Activation('relu'))\n",
        "model.add(L.Dense(30))\n",
        "model.add(L.Activation('relu'))\n",
        "model.add(L.Dense(128))\n",
        "model.add(L.Activation('relu'))\n",
        "model.add(L.Dense(256))\n",
        "model.add(L.Activation('relu'))\n",
        "model.add(L.Dropout(0.2))\n",
        "\n",
        "model.add(L.Dense(512))\n",
        "model.add(L.Activation('relu'))\n",
        "model.add(L.Dropout(0.2))\n",
        "\n",
        "model.add(L.Dense(784))\n",
        "model.add(L.Activation('relu'))\n",
        "\n",
        "# print(model)"
      ],
      "execution_count": null,
      "outputs": []
    },
    {
      "cell_type": "code",
      "metadata": {
        "colab": {
          "base_uri": "https://localhost:8080/"
        },
        "id": "lXYsYvFUv3Cu",
        "outputId": "e6fd57f9-da0f-4ee8-e9ef-7f7161c18109"
      },
      "source": [
        "\n",
        "epochs = 9\n",
        "batch_size=256\n",
        "optimizer = keras.optimizers.Adam(learning_rate=0.01)\n",
        "model.compile(optimizer, loss=tf.keras.losses.MeanSquaredError(), metrics=['accuracy'])\n",
        "history_1 = model.fit(X_train, X_train, validation_data=(X_test, X_test), batch_size=batch_size, epochs=epochs)"
      ],
      "execution_count": null,
      "outputs": [
        {
          "output_type": "stream",
          "text": [
            "Epoch 1/9\n",
            "235/235 [==============================] - 2s 6ms/step - loss: 2.3004 - accuracy: 0.0075 - val_loss: 0.0483 - val_accuracy: 0.0099\n",
            "Epoch 2/9\n",
            "235/235 [==============================] - 1s 4ms/step - loss: 0.0472 - accuracy: 0.0102 - val_loss: 0.0375 - val_accuracy: 0.0113\n",
            "Epoch 3/9\n",
            "235/235 [==============================] - 1s 4ms/step - loss: 0.0411 - accuracy: 0.0086 - val_loss: 0.0353 - val_accuracy: 0.0104\n",
            "Epoch 4/9\n",
            "235/235 [==============================] - 1s 4ms/step - loss: 0.0392 - accuracy: 0.0090 - val_loss: 0.0333 - val_accuracy: 0.0085\n",
            "Epoch 5/9\n",
            "235/235 [==============================] - 1s 4ms/step - loss: 0.0373 - accuracy: 0.0077 - val_loss: 0.0314 - val_accuracy: 0.0088\n",
            "Epoch 6/9\n",
            "235/235 [==============================] - 1s 4ms/step - loss: 0.0363 - accuracy: 0.0090 - val_loss: 0.0309 - val_accuracy: 0.0117\n",
            "Epoch 7/9\n",
            "235/235 [==============================] - 1s 4ms/step - loss: 0.0358 - accuracy: 0.0078 - val_loss: 0.0304 - val_accuracy: 0.0126\n",
            "Epoch 8/9\n",
            "235/235 [==============================] - 1s 4ms/step - loss: 0.0351 - accuracy: 0.0088 - val_loss: 0.0296 - val_accuracy: 0.0089\n",
            "Epoch 9/9\n",
            "235/235 [==============================] - 1s 4ms/step - loss: 0.0346 - accuracy: 0.0085 - val_loss: 0.0297 - val_accuracy: 0.0103\n"
          ],
          "name": "stdout"
        }
      ]
    },
    {
      "cell_type": "code",
      "metadata": {
        "colab": {
          "base_uri": "https://localhost:8080/",
          "height": 408
        },
        "id": "TkKWEsx-sCpw",
        "outputId": "ce54143b-f961-44e6-9dcd-40ee95254eb0"
      },
      "source": [
        "import matplotlib.pyplot as plt\n",
        "amount = 3\n",
        "lines = 4\n",
        "columns = 5\n",
        "image = np.zeros((amount, 28,28))\n",
        "image1 = np.zeros((amount, 28,28))\n",
        "X_train = X_train*255\n",
        "X_pred = model.predict(X_test) *255\n",
        "X_test = model.predict(X_test) *255\n",
        "\n",
        "number = np.zeros(amount)\n",
        "# X_train.reshape(60000, 28,28)\n",
        "\n",
        "for i in range(amount):\n",
        "  image[i] = X_train[i].reshape(28,28)\n",
        "  image1[i] = X_pred[i].reshape(28,28)\n",
        "  \n",
        "  \n",
        "fig = plt.figure(figsize=(15,15))\n",
        "\n",
        "for i in range(amount):\n",
        "  ax = fig.add_subplot(lines, columns, 1+i)\n",
        "  plt.imshow(X_train[i].reshape(28,28), cmap ='binary')\n",
        "\n",
        "  plt.sca(ax)\n",
        "plt.show()\n",
        "print(\"Train: \", y_train[: amount])\n",
        "fig = plt.figure(figsize=(15,15))\n",
        "\n",
        "for i in range(amount):\n",
        "  ax = fig.add_subplot(lines, columns, 1+i)\n",
        "  plt.imshow(X_pred[i].reshape(28,28), cmap ='binary')\n",
        "\n",
        "  plt.sca(ax)\n",
        "print(\"On Test: \", y_test[: amount])\n",
        "\n"
      ],
      "execution_count": null,
      "outputs": [
        {
          "output_type": "display_data",
          "data": {
            "image/png": "[encoded data removed]",
            "text/plain": [
              "<Figure size 1080x1080 with 3 Axes>"
            ]
          },
          "metadata": {
            "tags": []
          }
        },
        {
          "output_type": "stream",
          "text": [
            "Train:  ['0' '9' '8']\n",
            "On Test:  ['3' '5' '0']\n"
          ],
          "name": "stdout"
        },
        {
          "output_type": "display_data",
          "data": {
            "image/png": "[encoded data removed]",
            "text/plain": [
              "<Figure size 1080x1080 with 3 Axes>"
            ]
          },
          "metadata": {
            "tags": []
          }
        }
      ]
    },
    {
      "cell_type": "code",
      "metadata": {
        "id": "ud-4OOlxv3Cz"
      },
      "source": [
        "# Your code goes here. ################################################"
      ],
      "execution_count": null,
      "outputs": []
    },
    {
      "cell_type": "markdown",
      "metadata": {
        "id": "PxM3VK5Hv3Cz"
      },
      "source": [
        "Some time ago NNs were a lot poorer and people were struggling to learn deep models. To train a classification net people were training autoencoder first (to train autoencoder people were pretraining single layers with [RBM](https://en.wikipedia.org/wiki/Restricted_Boltzmann_machine)), then substituting the decoder part with classification layer (yeah, they were struggling with training autoencoders a lot, and complex techniques were used at that dark times). We are going to this now, fast and easy.  "
      ]
    },
    {
      "cell_type": "code",
      "metadata": {
        "id": "nlK3cf1jv3C0"
      },
      "source": [
        "# Extract inner representation for train and validation, \n",
        "# you should get (n_samples, 30) matrices\n",
        "# Your code goes here. ################################################\n",
        "\n",
        "# Now build a logistic regression or small classification net\n",
        "\n",
        "# Learn the weights\n",
        "# Your code goes here. ################################################\n",
        "\n",
        "# Now chop off decoder part\n",
        "# (you may need to implement `remove` method for Sequential container) \n",
        "# Your code goes here. ################################################\n",
        "\n",
        "# And add learned layers ontop.\n",
        "\n",
        "# Now optimize whole model\n",
        "# Your code goes here. ################################################"
      ],
      "execution_count": null,
      "outputs": []
    },
    {
      "cell_type": "markdown",
      "metadata": {
        "id": "Gbts9uHPv3C0"
      },
      "source": [
        "* What do you think, does it make sense to build real-world classifiers this way ? Did it work better for you than a straightforward one? Looks like it was not the same ~8 years ago, what has changed beside computational power? "
      ]
    },
    {
      "cell_type": "markdown",
      "metadata": {
        "id": "fQ4F2p3uv3C0"
      },
      "source": [
        "Run PCA with 30 components on the *train set*, plot original image, autoencoder and PCA reconstructions side by side for 10 samples from *validation set*.\n",
        "Probably you need to use the following snippet to make aoutpencoder examples look comparible."
      ]
    },
    {
      "cell_type": "code",
      "metadata": {
        "id": "j7rFl4Qnv3C1"
      },
      "source": [
        "# np.clip(prediction,0,1)\n",
        "#\n",
        "# Your code goes here. ################################################"
      ],
      "execution_count": null,
      "outputs": []
    },
    {
      "cell_type": "code",
      "metadata": {
        "id": "zYuI1o2Sv3C1"
      },
      "source": [
        "X_train = X[:60000]/255\n",
        "X_test = X[60000 :]/255\n",
        "y_train = y[:60000]\n",
        "y_test = y[60000 :]"
      ],
      "execution_count": null,
      "outputs": []
    },
    {
      "cell_type": "code",
      "metadata": {
        "colab": {
          "base_uri": "https://localhost:8080/"
        },
        "id": "Derrp1solys4",
        "outputId": "f051ef16-2da5-499d-b0d6-5918fa7913f8"
      },
      "source": [
        "from sklearn import decomposition\n",
        "\n",
        "pca = decomposition.PCA(n_components = 30) # n= 10 component is very good result too\n",
        "pca_data = pca.fit_transform(X_train)\n",
        "print(\" shape of pca data redation: \", pca_data.shape)"
      ],
      "execution_count": null,
      "outputs": [
        {
          "output_type": "stream",
          "text": [
            " shape of pca data redation:  (60000, 30)\n"
          ],
          "name": "stdout"
        }
      ]
    },
    {
      "cell_type": "code",
      "metadata": {
        "id": "STpNzgNKlype"
      },
      "source": [
        "inv_pca_data = pca.inverse_transform(pca_data)"
      ],
      "execution_count": null,
      "outputs": []
    },
    {
      "cell_type": "code",
      "metadata": {
        "colab": {
          "base_uri": "https://localhost:8080/",
          "height": 390
        },
        "id": "GUv1fTaOlymA",
        "outputId": "d8408e75-8596-4ed4-9ee5-d2699bbeba8d"
      },
      "source": [
        "import matplotlib.pyplot as plt\n",
        "amount = 3\n",
        "lines = 4\n",
        "columns = 5\n",
        "image = np.zeros((amount, 28,28))\n",
        "image1 = np.zeros((amount, 28,28))\n",
        "X_train = X_train*255\n",
        "X_pred = model.predict(inv_pca_data) *255\n",
        "\n",
        "number = np.zeros(amount)\n",
        "# X_train.reshape(60000, 28,28)\n",
        "\n",
        "for i in range(amount):\n",
        "  image[i] = X_train[i].reshape(28,28)\n",
        "  image1[i] = X_pred[i].reshape(28,28)\n",
        "  \n",
        "  \n",
        "fig = plt.figure(figsize=(15,15))\n",
        "\n",
        "for i in range(amount):\n",
        "  ax = fig.add_subplot(lines, columns, 1+i)\n",
        "  plt.imshow(X_train[i].reshape(28,28), cmap ='binary')\n",
        "\n",
        "  plt.sca(ax)\n",
        "plt.show()\n",
        "print(\"Train: \", y_train[: amount])\n",
        "fig = plt.figure(figsize=(15,15))\n",
        "\n",
        "for i in range(amount):\n",
        "  ax = fig.add_subplot(lines, columns, 1+i)\n",
        "  plt.imshow(X_pred[i].reshape(28,28), cmap ='binary')\n",
        "\n",
        "  plt.sca(ax)\n",
        "# print(\"On Test: \", y_test[: amount])\n",
        "\n"
      ],
      "execution_count": null,
      "outputs": [
        {
          "output_type": "display_data",
          "data": {
            "image/png": "[encoded data removed]",
            "text/plain": [
              "<Figure size 1080x1080 with 3 Axes>"
            ]
          },
          "metadata": {
            "tags": []
          }
        },
        {
          "output_type": "stream",
          "text": [
            "Train:  ['0' '9' '8']\n"
          ],
          "name": "stdout"
        },
        {
          "output_type": "display_data",
          "data": {
            "image/png": "[encoded data removed]",
            "text/plain": [
              "<Figure size 1080x1080 with 3 Axes>"
            ]
          },
          "metadata": {
            "tags": []
          }
        }
      ]
    },
    {
      "cell_type": "markdown",
      "metadata": {
        "id": "kv7Z_71nrFMo"
      },
      "source": [
        "### **PCA is very fast and gives a better result, but I think PCA will work very slowly for large data**\n",
        "### **In the case of a neural network, there are many parameters(Learning rate, number of layers...) for best result**\n"
      ]
    },
    {
      "cell_type": "code",
      "metadata": {
        "id": "icuxGgPLo9Le"
      },
      "source": [
        ""
      ],
      "execution_count": null,
      "outputs": []
    }
  ]
}